{
  "nbformat": 4,
  "nbformat_minor": 0,
  "metadata": {
    "colab": {
      "name": "Linear Regression (Car Dekho).ipynb",
      "provenance": [],
      "collapsed_sections": [
        "mfd3goZHfC2z"
      ],
      "include_colab_link": true
    },
    "kernelspec": {
      "name": "python3",
      "display_name": "Python 3"
    }
  },
  "cells": [
    {
      "cell_type": "markdown",
      "metadata": {
        "id": "view-in-github",
        "colab_type": "text"
      },
      "source": [
        "<a href=\"https://colab.research.google.com/github/kiran9615/Linear-Regression-Model-Car-Dekho-/blob/main/Linear_Regression_(Car_Dekho).ipynb\" target=\"_parent\"><img src=\"https://colab.research.google.com/assets/colab-badge.svg\" alt=\"Open In Colab\"/></a>"
      ]
    },
    {
      "cell_type": "markdown",
      "source": [
        "#**Project : Prediction using Linear Regression**\n",
        "\n",
        "##**Objective :  To predict the most probable car prices with the use of basic linear regression model**"
      ],
      "metadata": {
        "id": "8OMgJQ9Qzq2d"
      }
    },
    {
      "cell_type": "code",
      "metadata": {
        "id": "p0gkUooyR6Ix"
      },
      "source": [
        "#importing all the required libraries for analysis\n",
        "import pandas as pd\n",
        "import numpy as np\n",
        "import matplotlib.pyplot as plt\n",
        "import seaborn as sns\n",
        "import math\n",
        "#importing all the required libraries for predictive modeling\n",
        "from sklearn.model_selection import train_test_split\n",
        "from sklearn.preprocessing import MinMaxScaler\n",
        "from sklearn.linear_model import LinearRegression\n",
        "from sklearn.metrics import mean_squared_error,mean_absolute_error\n",
        "from sklearn.metrics import r2_score\n",
        "#to ignore unnecessary warnings\n",
        "import warnings\n",
        "warnings.filterwarnings('ignore')"
      ],
      "execution_count": null,
      "outputs": []
    },
    {
      "cell_type": "code",
      "source": [
        "#mounting drive in colab\n",
        "from google.colab import drive\n",
        "drive.mount('/content/drive')"
      ],
      "metadata": {
        "colab": {
          "base_uri": "https://localhost:8080/"
        },
        "id": "-rIcKrsVZYyz",
        "outputId": "c7691c02-96fe-4f86-ec7f-bbe2ee5ae9cc"
      },
      "execution_count": null,
      "outputs": [
        {
          "output_type": "stream",
          "name": "stdout",
          "text": [
            "Mounted at /content/drive\n"
          ]
        }
      ]
    },
    {
      "cell_type": "code",
      "source": [
        "#reading car details from car dekho csv file and storing it in cardekho_cardetails_data dataframe\n",
        "file_path = '/content/drive/MyDrive/Datascience/Datasets/'\n",
        "cardekho_cardetails_data = pd.read_csv(file_path + 'CAR DETAILS FROM CAR DEKHO.csv')"
      ],
      "metadata": {
        "id": "7AVbpbFcbOiO"
      },
      "execution_count": null,
      "outputs": []
    },
    {
      "cell_type": "markdown",
      "source": [
        "##**Data Preprocessing**"
      ],
      "metadata": {
        "id": "G1Ds3hcsfMr1"
      }
    },
    {
      "cell_type": "code",
      "source": [
        "#----------------------------------Block 1--------------------------------------\n",
        "\n",
        "#checking for the dimension of cardekho_cardetails_data\n",
        "cardekho_cardetails_data.shape   "
      ],
      "metadata": {
        "colab": {
          "base_uri": "https://localhost:8080/"
        },
        "id": "lVmKneyHbcUG",
        "outputId": "01e34b33-f3c5-40b9-a09b-da2eaa42bc8c"
      },
      "execution_count": null,
      "outputs": [
        {
          "output_type": "execute_result",
          "data": {
            "text/plain": [
              "(4340, 8)"
            ]
          },
          "metadata": {},
          "execution_count": 4
        }
      ]
    },
    {
      "cell_type": "markdown",
      "source": [
        "*So, the data has 4340 observations and 8 features*"
      ],
      "metadata": {
        "id": "3VW3cRai7wVL"
      }
    },
    {
      "cell_type": "code",
      "source": [
        "#----------------------------------Block 2--------------------------------------\n",
        "\n",
        "#1st five observations of cardekho_cardetails_data\n",
        "cardekho_cardetails_data.head()   "
      ],
      "metadata": {
        "colab": {
          "base_uri": "https://localhost:8080/",
          "height": 206
        },
        "id": "x3wZzWXubhAn",
        "outputId": "a9ad9243-3b19-425f-c3aa-b4ea98588d9c"
      },
      "execution_count": null,
      "outputs": [
        {
          "output_type": "execute_result",
          "data": {
            "text/plain": [
              "                       name  year  selling_price  km_driven    fuel  \\\n",
              "0             Maruti 800 AC  2007          60000      70000  Petrol   \n",
              "1  Maruti Wagon R LXI Minor  2007         135000      50000  Petrol   \n",
              "2      Hyundai Verna 1.6 SX  2012         600000     100000  Diesel   \n",
              "3    Datsun RediGO T Option  2017         250000      46000  Petrol   \n",
              "4     Honda Amaze VX i-DTEC  2014         450000     141000  Diesel   \n",
              "\n",
              "  seller_type transmission         owner  \n",
              "0  Individual       Manual   First Owner  \n",
              "1  Individual       Manual   First Owner  \n",
              "2  Individual       Manual   First Owner  \n",
              "3  Individual       Manual   First Owner  \n",
              "4  Individual       Manual  Second Owner  "
            ],
            "text/html": [
              "\n",
              "  <div id=\"df-bc355071-4342-4f27-98ed-5c4cf4b9ae5a\">\n",
              "    <div class=\"colab-df-container\">\n",
              "      <div>\n",
              "<style scoped>\n",
              "    .dataframe tbody tr th:only-of-type {\n",
              "        vertical-align: middle;\n",
              "    }\n",
              "\n",
              "    .dataframe tbody tr th {\n",
              "        vertical-align: top;\n",
              "    }\n",
              "\n",
              "    .dataframe thead th {\n",
              "        text-align: right;\n",
              "    }\n",
              "</style>\n",
              "<table border=\"1\" class=\"dataframe\">\n",
              "  <thead>\n",
              "    <tr style=\"text-align: right;\">\n",
              "      <th></th>\n",
              "      <th>name</th>\n",
              "      <th>year</th>\n",
              "      <th>selling_price</th>\n",
              "      <th>km_driven</th>\n",
              "      <th>fuel</th>\n",
              "      <th>seller_type</th>\n",
              "      <th>transmission</th>\n",
              "      <th>owner</th>\n",
              "    </tr>\n",
              "  </thead>\n",
              "  <tbody>\n",
              "    <tr>\n",
              "      <th>0</th>\n",
              "      <td>Maruti 800 AC</td>\n",
              "      <td>2007</td>\n",
              "      <td>60000</td>\n",
              "      <td>70000</td>\n",
              "      <td>Petrol</td>\n",
              "      <td>Individual</td>\n",
              "      <td>Manual</td>\n",
              "      <td>First Owner</td>\n",
              "    </tr>\n",
              "    <tr>\n",
              "      <th>1</th>\n",
              "      <td>Maruti Wagon R LXI Minor</td>\n",
              "      <td>2007</td>\n",
              "      <td>135000</td>\n",
              "      <td>50000</td>\n",
              "      <td>Petrol</td>\n",
              "      <td>Individual</td>\n",
              "      <td>Manual</td>\n",
              "      <td>First Owner</td>\n",
              "    </tr>\n",
              "    <tr>\n",
              "      <th>2</th>\n",
              "      <td>Hyundai Verna 1.6 SX</td>\n",
              "      <td>2012</td>\n",
              "      <td>600000</td>\n",
              "      <td>100000</td>\n",
              "      <td>Diesel</td>\n",
              "      <td>Individual</td>\n",
              "      <td>Manual</td>\n",
              "      <td>First Owner</td>\n",
              "    </tr>\n",
              "    <tr>\n",
              "      <th>3</th>\n",
              "      <td>Datsun RediGO T Option</td>\n",
              "      <td>2017</td>\n",
              "      <td>250000</td>\n",
              "      <td>46000</td>\n",
              "      <td>Petrol</td>\n",
              "      <td>Individual</td>\n",
              "      <td>Manual</td>\n",
              "      <td>First Owner</td>\n",
              "    </tr>\n",
              "    <tr>\n",
              "      <th>4</th>\n",
              "      <td>Honda Amaze VX i-DTEC</td>\n",
              "      <td>2014</td>\n",
              "      <td>450000</td>\n",
              "      <td>141000</td>\n",
              "      <td>Diesel</td>\n",
              "      <td>Individual</td>\n",
              "      <td>Manual</td>\n",
              "      <td>Second Owner</td>\n",
              "    </tr>\n",
              "  </tbody>\n",
              "</table>\n",
              "</div>\n",
              "      <button class=\"colab-df-convert\" onclick=\"convertToInteractive('df-bc355071-4342-4f27-98ed-5c4cf4b9ae5a')\"\n",
              "              title=\"Convert this dataframe to an interactive table.\"\n",
              "              style=\"display:none;\">\n",
              "        \n",
              "  <svg xmlns=\"http://www.w3.org/2000/svg\" height=\"24px\"viewBox=\"0 0 24 24\"\n",
              "       width=\"24px\">\n",
              "    <path d=\"M0 0h24v24H0V0z\" fill=\"none\"/>\n",
              "    <path d=\"M18.56 5.44l.94 2.06.94-2.06 2.06-.94-2.06-.94-.94-2.06-.94 2.06-2.06.94zm-11 1L8.5 8.5l.94-2.06 2.06-.94-2.06-.94L8.5 2.5l-.94 2.06-2.06.94zm10 10l.94 2.06.94-2.06 2.06-.94-2.06-.94-.94-2.06-.94 2.06-2.06.94z\"/><path d=\"M17.41 7.96l-1.37-1.37c-.4-.4-.92-.59-1.43-.59-.52 0-1.04.2-1.43.59L10.3 9.45l-7.72 7.72c-.78.78-.78 2.05 0 2.83L4 21.41c.39.39.9.59 1.41.59.51 0 1.02-.2 1.41-.59l7.78-7.78 2.81-2.81c.8-.78.8-2.07 0-2.86zM5.41 20L4 18.59l7.72-7.72 1.47 1.35L5.41 20z\"/>\n",
              "  </svg>\n",
              "      </button>\n",
              "      \n",
              "  <style>\n",
              "    .colab-df-container {\n",
              "      display:flex;\n",
              "      flex-wrap:wrap;\n",
              "      gap: 12px;\n",
              "    }\n",
              "\n",
              "    .colab-df-convert {\n",
              "      background-color: #E8F0FE;\n",
              "      border: none;\n",
              "      border-radius: 50%;\n",
              "      cursor: pointer;\n",
              "      display: none;\n",
              "      fill: #1967D2;\n",
              "      height: 32px;\n",
              "      padding: 0 0 0 0;\n",
              "      width: 32px;\n",
              "    }\n",
              "\n",
              "    .colab-df-convert:hover {\n",
              "      background-color: #E2EBFA;\n",
              "      box-shadow: 0px 1px 2px rgba(60, 64, 67, 0.3), 0px 1px 3px 1px rgba(60, 64, 67, 0.15);\n",
              "      fill: #174EA6;\n",
              "    }\n",
              "\n",
              "    [theme=dark] .colab-df-convert {\n",
              "      background-color: #3B4455;\n",
              "      fill: #D2E3FC;\n",
              "    }\n",
              "\n",
              "    [theme=dark] .colab-df-convert:hover {\n",
              "      background-color: #434B5C;\n",
              "      box-shadow: 0px 1px 3px 1px rgba(0, 0, 0, 0.15);\n",
              "      filter: drop-shadow(0px 1px 2px rgba(0, 0, 0, 0.3));\n",
              "      fill: #FFFFFF;\n",
              "    }\n",
              "  </style>\n",
              "\n",
              "      <script>\n",
              "        const buttonEl =\n",
              "          document.querySelector('#df-bc355071-4342-4f27-98ed-5c4cf4b9ae5a button.colab-df-convert');\n",
              "        buttonEl.style.display =\n",
              "          google.colab.kernel.accessAllowed ? 'block' : 'none';\n",
              "\n",
              "        async function convertToInteractive(key) {\n",
              "          const element = document.querySelector('#df-bc355071-4342-4f27-98ed-5c4cf4b9ae5a');\n",
              "          const dataTable =\n",
              "            await google.colab.kernel.invokeFunction('convertToInteractive',\n",
              "                                                     [key], {});\n",
              "          if (!dataTable) return;\n",
              "\n",
              "          const docLinkHtml = 'Like what you see? Visit the ' +\n",
              "            '<a target=\"_blank\" href=https://colab.research.google.com/notebooks/data_table.ipynb>data table notebook</a>'\n",
              "            + ' to learn more about interactive tables.';\n",
              "          element.innerHTML = '';\n",
              "          dataTable['output_type'] = 'display_data';\n",
              "          await google.colab.output.renderOutput(dataTable, element);\n",
              "          const docLink = document.createElement('div');\n",
              "          docLink.innerHTML = docLinkHtml;\n",
              "          element.appendChild(docLink);\n",
              "        }\n",
              "      </script>\n",
              "    </div>\n",
              "  </div>\n",
              "  "
            ]
          },
          "metadata": {},
          "execution_count": 5
        }
      ]
    },
    {
      "cell_type": "markdown",
      "source": [
        "Here, we can see the **name** column consists of model name with their brands. So, we can split this column to form two separate columns, one is **brand** and another is **model**"
      ],
      "metadata": {
        "id": "l4nu_qxvnicR"
      }
    },
    {
      "cell_type": "code",
      "source": [
        "#----------------------------------Block 3--------------------------------------\n",
        "\n",
        "#checking for duplicate rows\n",
        "print('Number of duplicate observations in the data : ',cardekho_cardetails_data.duplicated().sum()) "
      ],
      "metadata": {
        "colab": {
          "base_uri": "https://localhost:8080/"
        },
        "id": "7IVmzZ1XchzK",
        "outputId": "134bfddf-279a-406e-c41b-1f9617fb3586"
      },
      "execution_count": null,
      "outputs": [
        {
          "output_type": "stream",
          "name": "stdout",
          "text": [
            "Number of duplicate observations in the data :  763\n"
          ]
        }
      ]
    },
    {
      "cell_type": "code",
      "source": [
        "#----------------------------------Block 4--------------------------------------\n",
        "\n",
        "#dropping the duplicated rows\n",
        "cardekho_cardetails_data.drop_duplicates(inplace = True)   "
      ],
      "metadata": {
        "id": "Y1vJHi9vdBq6"
      },
      "execution_count": null,
      "outputs": []
    },
    {
      "cell_type": "code",
      "source": [
        "#checking for the dimension of cardekho_cardetails_data after dropping duplicated observations\n",
        "cardekho_cardetails_data.shape   "
      ],
      "metadata": {
        "colab": {
          "base_uri": "https://localhost:8080/"
        },
        "id": "20TnPSsJdfLJ",
        "outputId": "793bc502-80e7-416e-d161-95a4585e1eb3"
      },
      "execution_count": null,
      "outputs": [
        {
          "output_type": "execute_result",
          "data": {
            "text/plain": [
              "(3577, 8)"
            ]
          },
          "metadata": {},
          "execution_count": 8
        }
      ]
    },
    {
      "cell_type": "code",
      "source": [
        "#----------------------------------Block 5--------------------------------------\n",
        "\n",
        "#defining a function splitnme_getbrand to get name of the brand from 'name' column\n",
        "def splitnme_getbrand(x):\n",
        "  y=x.split(' ')   #splitting a string by ' ' to get list of words \n",
        "  return y[0]   #returning first word from the list which is a name of brand"
      ],
      "metadata": {
        "id": "LQWZIfXgoVM0"
      },
      "execution_count": null,
      "outputs": []
    },
    {
      "cell_type": "code",
      "source": [
        "#----------------------------------Block 6--------------------------------------\n",
        "\n",
        "#creating a new feature 'brand' using the function defined in Block 5\n",
        "cardekho_cardetails_data['brand'] = cardekho_cardetails_data['name'].apply(splitnme_getbrand)"
      ],
      "metadata": {
        "id": "2wCEfgc4oO84"
      },
      "execution_count": null,
      "outputs": []
    },
    {
      "cell_type": "code",
      "source": [
        "#----------------------------------Block 7--------------------------------------\n",
        "\n",
        "#defining a function splitnme_getmodel to get model name from 'name' column\n",
        "def splitnme_getmodel(x):\n",
        "  y=x.split(' ')   #splitting a string by ' ' to get list of words \n",
        "  return y[1]   #returning second word from the list which is a name of model"
      ],
      "metadata": {
        "id": "1uymUD75pzbq"
      },
      "execution_count": null,
      "outputs": []
    },
    {
      "cell_type": "code",
      "source": [
        "#----------------------------------Block 8--------------------------------------\n",
        "\n",
        "#creating a new feature 'model' using the function defined in Block 7\n",
        "cardekho_cardetails_data['model'] = cardekho_cardetails_data['name'].apply(splitnme_getmodel)"
      ],
      "metadata": {
        "id": "YCw-LS5wp7mr"
      },
      "execution_count": null,
      "outputs": []
    },
    {
      "cell_type": "code",
      "source": [
        "#----------------------------------Block 9--------------------------------------\n",
        "\n",
        "cardekho_cardetails_data.head()   #checking for 1st five rows after creating new features"
      ],
      "metadata": {
        "colab": {
          "base_uri": "https://localhost:8080/",
          "height": 206
        },
        "id": "b3ghGCfPvCFf",
        "outputId": "1236d222-ec92-4dfd-c5c7-79de8ad3fab9"
      },
      "execution_count": null,
      "outputs": [
        {
          "output_type": "execute_result",
          "data": {
            "text/plain": [
              "                       name  year  selling_price  km_driven    fuel  \\\n",
              "0             Maruti 800 AC  2007          60000      70000  Petrol   \n",
              "1  Maruti Wagon R LXI Minor  2007         135000      50000  Petrol   \n",
              "2      Hyundai Verna 1.6 SX  2012         600000     100000  Diesel   \n",
              "3    Datsun RediGO T Option  2017         250000      46000  Petrol   \n",
              "4     Honda Amaze VX i-DTEC  2014         450000     141000  Diesel   \n",
              "\n",
              "  seller_type transmission         owner    brand   model  \n",
              "0  Individual       Manual   First Owner   Maruti     800  \n",
              "1  Individual       Manual   First Owner   Maruti   Wagon  \n",
              "2  Individual       Manual   First Owner  Hyundai   Verna  \n",
              "3  Individual       Manual   First Owner   Datsun  RediGO  \n",
              "4  Individual       Manual  Second Owner    Honda   Amaze  "
            ],
            "text/html": [
              "\n",
              "  <div id=\"df-0695c1c9-cac4-4518-b2a3-f027f5767a48\">\n",
              "    <div class=\"colab-df-container\">\n",
              "      <div>\n",
              "<style scoped>\n",
              "    .dataframe tbody tr th:only-of-type {\n",
              "        vertical-align: middle;\n",
              "    }\n",
              "\n",
              "    .dataframe tbody tr th {\n",
              "        vertical-align: top;\n",
              "    }\n",
              "\n",
              "    .dataframe thead th {\n",
              "        text-align: right;\n",
              "    }\n",
              "</style>\n",
              "<table border=\"1\" class=\"dataframe\">\n",
              "  <thead>\n",
              "    <tr style=\"text-align: right;\">\n",
              "      <th></th>\n",
              "      <th>name</th>\n",
              "      <th>year</th>\n",
              "      <th>selling_price</th>\n",
              "      <th>km_driven</th>\n",
              "      <th>fuel</th>\n",
              "      <th>seller_type</th>\n",
              "      <th>transmission</th>\n",
              "      <th>owner</th>\n",
              "      <th>brand</th>\n",
              "      <th>model</th>\n",
              "    </tr>\n",
              "  </thead>\n",
              "  <tbody>\n",
              "    <tr>\n",
              "      <th>0</th>\n",
              "      <td>Maruti 800 AC</td>\n",
              "      <td>2007</td>\n",
              "      <td>60000</td>\n",
              "      <td>70000</td>\n",
              "      <td>Petrol</td>\n",
              "      <td>Individual</td>\n",
              "      <td>Manual</td>\n",
              "      <td>First Owner</td>\n",
              "      <td>Maruti</td>\n",
              "      <td>800</td>\n",
              "    </tr>\n",
              "    <tr>\n",
              "      <th>1</th>\n",
              "      <td>Maruti Wagon R LXI Minor</td>\n",
              "      <td>2007</td>\n",
              "      <td>135000</td>\n",
              "      <td>50000</td>\n",
              "      <td>Petrol</td>\n",
              "      <td>Individual</td>\n",
              "      <td>Manual</td>\n",
              "      <td>First Owner</td>\n",
              "      <td>Maruti</td>\n",
              "      <td>Wagon</td>\n",
              "    </tr>\n",
              "    <tr>\n",
              "      <th>2</th>\n",
              "      <td>Hyundai Verna 1.6 SX</td>\n",
              "      <td>2012</td>\n",
              "      <td>600000</td>\n",
              "      <td>100000</td>\n",
              "      <td>Diesel</td>\n",
              "      <td>Individual</td>\n",
              "      <td>Manual</td>\n",
              "      <td>First Owner</td>\n",
              "      <td>Hyundai</td>\n",
              "      <td>Verna</td>\n",
              "    </tr>\n",
              "    <tr>\n",
              "      <th>3</th>\n",
              "      <td>Datsun RediGO T Option</td>\n",
              "      <td>2017</td>\n",
              "      <td>250000</td>\n",
              "      <td>46000</td>\n",
              "      <td>Petrol</td>\n",
              "      <td>Individual</td>\n",
              "      <td>Manual</td>\n",
              "      <td>First Owner</td>\n",
              "      <td>Datsun</td>\n",
              "      <td>RediGO</td>\n",
              "    </tr>\n",
              "    <tr>\n",
              "      <th>4</th>\n",
              "      <td>Honda Amaze VX i-DTEC</td>\n",
              "      <td>2014</td>\n",
              "      <td>450000</td>\n",
              "      <td>141000</td>\n",
              "      <td>Diesel</td>\n",
              "      <td>Individual</td>\n",
              "      <td>Manual</td>\n",
              "      <td>Second Owner</td>\n",
              "      <td>Honda</td>\n",
              "      <td>Amaze</td>\n",
              "    </tr>\n",
              "  </tbody>\n",
              "</table>\n",
              "</div>\n",
              "      <button class=\"colab-df-convert\" onclick=\"convertToInteractive('df-0695c1c9-cac4-4518-b2a3-f027f5767a48')\"\n",
              "              title=\"Convert this dataframe to an interactive table.\"\n",
              "              style=\"display:none;\">\n",
              "        \n",
              "  <svg xmlns=\"http://www.w3.org/2000/svg\" height=\"24px\"viewBox=\"0 0 24 24\"\n",
              "       width=\"24px\">\n",
              "    <path d=\"M0 0h24v24H0V0z\" fill=\"none\"/>\n",
              "    <path d=\"M18.56 5.44l.94 2.06.94-2.06 2.06-.94-2.06-.94-.94-2.06-.94 2.06-2.06.94zm-11 1L8.5 8.5l.94-2.06 2.06-.94-2.06-.94L8.5 2.5l-.94 2.06-2.06.94zm10 10l.94 2.06.94-2.06 2.06-.94-2.06-.94-.94-2.06-.94 2.06-2.06.94z\"/><path d=\"M17.41 7.96l-1.37-1.37c-.4-.4-.92-.59-1.43-.59-.52 0-1.04.2-1.43.59L10.3 9.45l-7.72 7.72c-.78.78-.78 2.05 0 2.83L4 21.41c.39.39.9.59 1.41.59.51 0 1.02-.2 1.41-.59l7.78-7.78 2.81-2.81c.8-.78.8-2.07 0-2.86zM5.41 20L4 18.59l7.72-7.72 1.47 1.35L5.41 20z\"/>\n",
              "  </svg>\n",
              "      </button>\n",
              "      \n",
              "  <style>\n",
              "    .colab-df-container {\n",
              "      display:flex;\n",
              "      flex-wrap:wrap;\n",
              "      gap: 12px;\n",
              "    }\n",
              "\n",
              "    .colab-df-convert {\n",
              "      background-color: #E8F0FE;\n",
              "      border: none;\n",
              "      border-radius: 50%;\n",
              "      cursor: pointer;\n",
              "      display: none;\n",
              "      fill: #1967D2;\n",
              "      height: 32px;\n",
              "      padding: 0 0 0 0;\n",
              "      width: 32px;\n",
              "    }\n",
              "\n",
              "    .colab-df-convert:hover {\n",
              "      background-color: #E2EBFA;\n",
              "      box-shadow: 0px 1px 2px rgba(60, 64, 67, 0.3), 0px 1px 3px 1px rgba(60, 64, 67, 0.15);\n",
              "      fill: #174EA6;\n",
              "    }\n",
              "\n",
              "    [theme=dark] .colab-df-convert {\n",
              "      background-color: #3B4455;\n",
              "      fill: #D2E3FC;\n",
              "    }\n",
              "\n",
              "    [theme=dark] .colab-df-convert:hover {\n",
              "      background-color: #434B5C;\n",
              "      box-shadow: 0px 1px 3px 1px rgba(0, 0, 0, 0.15);\n",
              "      filter: drop-shadow(0px 1px 2px rgba(0, 0, 0, 0.3));\n",
              "      fill: #FFFFFF;\n",
              "    }\n",
              "  </style>\n",
              "\n",
              "      <script>\n",
              "        const buttonEl =\n",
              "          document.querySelector('#df-0695c1c9-cac4-4518-b2a3-f027f5767a48 button.colab-df-convert');\n",
              "        buttonEl.style.display =\n",
              "          google.colab.kernel.accessAllowed ? 'block' : 'none';\n",
              "\n",
              "        async function convertToInteractive(key) {\n",
              "          const element = document.querySelector('#df-0695c1c9-cac4-4518-b2a3-f027f5767a48');\n",
              "          const dataTable =\n",
              "            await google.colab.kernel.invokeFunction('convertToInteractive',\n",
              "                                                     [key], {});\n",
              "          if (!dataTable) return;\n",
              "\n",
              "          const docLinkHtml = 'Like what you see? Visit the ' +\n",
              "            '<a target=\"_blank\" href=https://colab.research.google.com/notebooks/data_table.ipynb>data table notebook</a>'\n",
              "            + ' to learn more about interactive tables.';\n",
              "          element.innerHTML = '';\n",
              "          dataTable['output_type'] = 'display_data';\n",
              "          await google.colab.output.renderOutput(dataTable, element);\n",
              "          const docLink = document.createElement('div');\n",
              "          docLink.innerHTML = docLinkHtml;\n",
              "          element.appendChild(docLink);\n",
              "        }\n",
              "      </script>\n",
              "    </div>\n",
              "  </div>\n",
              "  "
            ]
          },
          "metadata": {},
          "execution_count": 13
        }
      ]
    },
    {
      "cell_type": "code",
      "source": [
        "#----------------------------------Block 10--------------------------------------\n",
        "\n",
        "for col in ['name','brand','model']:   #iterating over list \n",
        "   print(f'Number of unique values of {col} is : ',cardekho_cardetails_data[col].nunique())   #no. of unique values for features of the list"
      ],
      "metadata": {
        "colab": {
          "base_uri": "https://localhost:8080/"
        },
        "id": "4PcCIatF0V0B",
        "outputId": "3734e371-b89d-4e95-f212-0a53e5a30353"
      },
      "execution_count": null,
      "outputs": [
        {
          "output_type": "stream",
          "name": "stdout",
          "text": [
            "Number of unique values of name is :  1491\n",
            "Number of unique values of brand is :  29\n",
            "Number of unique values of model is :  185\n"
          ]
        }
      ]
    },
    {
      "cell_type": "markdown",
      "source": [
        "*we have data of 3577 unique observations, and 1491 unique values for name feature, the given data would be quite less to learn all the patterns for this large no. of values of name feature and as **brand** and **model** are created from this **name** feature itself and unique values for these both also not that large, so we can use these both features instead of name feature to learn the patterns, So Let's drop 'name' feature.*"
      ],
      "metadata": {
        "id": "C9bAngKR07Ol"
      }
    },
    {
      "cell_type": "code",
      "source": [
        "#----------------------------------Block 11--------------------------------------\n",
        "\n",
        "cardekho_cardetails_data.drop(columns='name',inplace=True)   #dropping feature 'name'"
      ],
      "metadata": {
        "id": "X4DzygVd1i0F"
      },
      "execution_count": null,
      "outputs": []
    },
    {
      "cell_type": "code",
      "source": [
        "#----------------------------------Block 12--------------------------------------\n",
        "\n",
        "cardekho_cardetails_data.info()   #to get basic information of data"
      ],
      "metadata": {
        "colab": {
          "base_uri": "https://localhost:8080/"
        },
        "id": "Jvbtdt5qdm9y",
        "outputId": "448a9b4e-0540-4339-8931-9c3abc8f8c0f"
      },
      "execution_count": null,
      "outputs": [
        {
          "output_type": "stream",
          "name": "stdout",
          "text": [
            "<class 'pandas.core.frame.DataFrame'>\n",
            "Int64Index: 3577 entries, 0 to 4339\n",
            "Data columns (total 9 columns):\n",
            " #   Column         Non-Null Count  Dtype \n",
            "---  ------         --------------  ----- \n",
            " 0   year           3577 non-null   int64 \n",
            " 1   selling_price  3577 non-null   int64 \n",
            " 2   km_driven      3577 non-null   int64 \n",
            " 3   fuel           3577 non-null   object\n",
            " 4   seller_type    3577 non-null   object\n",
            " 5   transmission   3577 non-null   object\n",
            " 6   owner          3577 non-null   object\n",
            " 7   brand          3577 non-null   object\n",
            " 8   model          3577 non-null   object\n",
            "dtypes: int64(3), object(6)\n",
            "memory usage: 279.5+ KB\n"
          ]
        }
      ]
    },
    {
      "cell_type": "markdown",
      "source": [
        "*Okay, no any null value in the data*"
      ],
      "metadata": {
        "id": "MLTssuMB1Rh5"
      }
    },
    {
      "cell_type": "markdown",
      "source": [
        "**Data Dictionary**\n",
        "\n",
        "* *year - year in which the car was bought*\n",
        "* *km_driven - distance travelled by the car in km since it bought*\n",
        "* *fuel - type of fuel car uses (Petrol, Diesel, CNG, LPG, Electric)*\n",
        "* *seller_type - whether the seller is a dealer or an individual*\n",
        "* *transmission -  car is manual or automatic*\n",
        "* *owner - number of owners the car previously had*\n",
        "* *brand - brand of the car*\n",
        "* *model - model of the car*\n",
        "* *selling_price - selling price of the car*\n"
      ],
      "metadata": {
        "id": "gIWzF0f6VPjm"
      }
    },
    {
      "cell_type": "markdown",
      "source": [
        "##**Feature analysis**"
      ],
      "metadata": {
        "id": "mfd3goZHfC2z"
      }
    },
    {
      "cell_type": "markdown",
      "source": [
        "*Let's divide these features into independent and dependent variables*"
      ],
      "metadata": {
        "id": "Sz6AIxtd2GWQ"
      }
    },
    {
      "cell_type": "code",
      "source": [
        "#----------------------------------Block 13--------------------------------------\n",
        "\n",
        "Y = ['selling_price']   #dependent variable\n",
        "X = list(set(cardekho_cardetails_data.columns)- set(Y))   #independent variable"
      ],
      "metadata": {
        "id": "WfNwFQDJ2Fgr"
      },
      "execution_count": null,
      "outputs": []
    },
    {
      "cell_type": "markdown",
      "source": [
        "* *Dependent variable analysis*"
      ],
      "metadata": {
        "id": "Q1TLxtb0DYmI"
      }
    },
    {
      "cell_type": "code",
      "source": [
        "#----------------------------------Block 14-a--------------------------------------\n",
        "\n",
        "#visualising distribution of selling_price\n",
        "fig,axes= plt.subplots(1,2,figsize=(16,6))   #defining figure and initialising axes\n",
        "sns.distplot(cardekho_cardetails_data['selling_price'],color='peru',ax=axes[0])   #distribution plot for selling_price\n",
        "axes[0].set_title('Selling Price distribution',fontsize=13)   #to give title\n",
        "sns.boxplot(cardekho_cardetails_data['selling_price'],color='lavender',ax=axes[1])   #boxplot showing distribution of selling_price\n",
        "axes[1].set_title('Selling Price distribution using Boxplot',fontsize=13)\n",
        "plt.show()"
      ],
      "metadata": {
        "colab": {
          "base_uri": "https://localhost:8080/",
          "height": 405
        },
        "id": "XOV1MtR15o-Z",
        "outputId": "7a4400d4-48ff-4ca3-e796-22dcc1c02acc"
      },
      "execution_count": null,
      "outputs": [
        {
          "output_type": "display_data",
          "data": {
            "text/plain": [
              "<Figure size 1152x432 with 2 Axes>"
            ],
            "image/png": "[encoded data removed]"
          },
          "metadata": {
            "needs_background": "light"
          }
        }
      ]
    },
    {
      "cell_type": "markdown",
      "source": [
        "*As this feature is little right skewed so, we will apply a transformation technique to make it normally distributed*"
      ],
      "metadata": {
        "id": "d0GxNONKFkOw"
      }
    },
    {
      "cell_type": "code",
      "source": [
        "#----------------------------------Block 14-b--------------------------------------\n",
        "\n",
        "#applying cube root transformation to check if it works or not\n",
        "fig,axes= plt.subplots(1,2,figsize=(16,6))   #defining figure and initialising axes\n",
        "#distribution plot for selling_price after cube root transformation\n",
        "sns.distplot(np.cbrt(cardekho_cardetails_data['selling_price']),ax=axes[0],color='peru')   #distplot \n",
        "axes[0].set_title('Selling Price distribution',fontsize=13)   #to give title\n",
        "sns.boxplot(np.cbrt(cardekho_cardetails_data['selling_price']),ax=axes[1],color='lavender')   #boxplot\n",
        "axes[1].set_title('Selling Price distribution using Boxplot',fontsize=13)\n",
        "plt.show()"
      ],
      "metadata": {
        "colab": {
          "base_uri": "https://localhost:8080/",
          "height": 405
        },
        "id": "uR8YIGXe6m6F",
        "outputId": "3dc3c84d-40f0-4729-d996-bb73c357654b"
      },
      "execution_count": null,
      "outputs": [
        {
          "output_type": "display_data",
          "data": {
            "text/plain": [
              "<Figure size 1152x432 with 2 Axes>"
            ],
            "image/png": "[encoded data removed]"
          },
          "metadata": {
            "needs_background": "light"
          }
        }
      ]
    },
    {
      "cell_type": "markdown",
      "source": [
        "*Now it looks fine, and also outliers has gone little less.  So, we will apply cube root transformation in selling_price. The presence of outliers in selling_price can be defined by independent variables like brand, model of that car or year, owner etc*"
      ],
      "metadata": {
        "id": "xhIg9C7XHZ-V"
      }
    },
    {
      "cell_type": "code",
      "source": [
        "#----------------------------------Block 15--------------------------------------\n",
        "\n",
        "cardekho_cardetails_data['selling_price'] = np.cbrt(cardekho_cardetails_data['selling_price'])   #cube root transformation of selling_price"
      ],
      "metadata": {
        "id": "3RkKrtJ87qHt"
      },
      "execution_count": null,
      "outputs": []
    },
    {
      "cell_type": "markdown",
      "source": [
        "* *Independent variable analysis*"
      ],
      "metadata": {
        "id": "MG57DaH2GXwE"
      }
    },
    {
      "cell_type": "code",
      "source": [
        "#----------------------------------Block 16--------------------------------------\n",
        "\n",
        "print(X)   #printing independent variables"
      ],
      "metadata": {
        "colab": {
          "base_uri": "https://localhost:8080/"
        },
        "id": "kpCdmxHr3LDb",
        "outputId": "7612a4f9-2bef-40f7-e1f8-04cd71e901ce"
      },
      "execution_count": null,
      "outputs": [
        {
          "output_type": "stream",
          "name": "stdout",
          "text": [
            "['transmission', 'model', 'seller_type', 'owner', 'km_driven', 'year', 'fuel', 'brand']\n"
          ]
        }
      ]
    },
    {
      "cell_type": "markdown",
      "source": [
        "*Among independent variables, we have some features which are numerical and some are categoroial. Let's categorise these in num_features and categorical_features*"
      ],
      "metadata": {
        "id": "4Ey3-kKO1wPy"
      }
    },
    {
      "cell_type": "code",
      "source": [
        "#----------------------------------Block 17--------------------------------------\n",
        "\n",
        "num_features = ['km_driven','year']   #storing numerical features\n",
        "categorical_features = list(set(X)-set(num_features))   #storing categorical features"
      ],
      "metadata": {
        "id": "za-jUrFyC2dt"
      },
      "execution_count": null,
      "outputs": []
    },
    {
      "cell_type": "markdown",
      "source": [
        "*1. num_features analysis*"
      ],
      "metadata": {
        "id": "q3-JymHgIo55"
      }
    },
    {
      "cell_type": "code",
      "source": [
        "#----------------------------------Block 18--------------------------------------\n",
        "\n",
        "fig,axes= plt.subplots(2,2,figsize=(16,8))   #defining figure and initialising axes\n",
        "for i,col in enumerate(num_features):   #iterating over enumerate(num_features) to get index of selected feature and name of that feature \n",
        "   sns.distplot(cardekho_cardetails_data[col],ax=axes[i,0],color='peru')   #dist plot of selected feature\n",
        "   axes[i,0].set_title(f'{col} distribution',fontsize=13)   #to give title\n",
        "   sns.boxplot(cardekho_cardetails_data[col],ax=axes[i,1],color='lavender')   #boxplot for selected feature\n",
        "   axes[i,1].set_title(f'{col} distribution using Boxplot',fontsize=13)   \n",
        "fig.tight_layout() #for creating proper distance among different figures "
      ],
      "metadata": {
        "colab": {
          "base_uri": "https://localhost:8080/",
          "height": 585
        },
        "id": "H6RcsiQRJmRe",
        "outputId": "c70ef9e0-0926-4729-9843-aea8e14eed39"
      },
      "execution_count": null,
      "outputs": [
        {
          "output_type": "display_data",
          "data": {
            "text/plain": [
              "<Figure size 1152x576 with 4 Axes>"
            ],
            "image/png": "[encoded data removed]"
          },
          "metadata": {
            "needs_background": "light"
          }
        }
      ]
    },
    {
      "cell_type": "markdown",
      "source": [
        "*we can see for 'year' feature we have data available from 1992-2020, with most of the observations between 2001-2020, that's why 1992-2000 seems like outliers here, but it's fine. We will not apply any transformation technique for 'year' feature*\n",
        "\n",
        "*km_driven feature distribution is little skewed, let's try to transform this features to make it normally distributed*"
      ],
      "metadata": {
        "id": "Y6g38uv_9v6t"
      }
    },
    {
      "cell_type": "code",
      "source": [
        "#----------------------------------Block 19--------------------------------------\n",
        "\n",
        "#applying cube root transformation to check if it works or not\n",
        "fig,axes= plt.subplots(1,2,figsize=(16,5))\n",
        "#distribution plot for selling_price after cube root transformation\n",
        "sns.distplot(np.cbrt(cardekho_cardetails_data['km_driven']),ax=axes[0],color='peru')   #distplot\n",
        "axes[0].set_title('Selling Price distribution',fontsize=13)   #to give title\n",
        "sns.boxplot(np.cbrt(cardekho_cardetails_data['km_driven']),ax=axes[1],color='lavender')   #boxplot\n",
        "axes[1].set_title('Selling Price distribution using Boxplot',fontsize=13)    \n",
        "plt.show()"
      ],
      "metadata": {
        "colab": {
          "base_uri": "https://localhost:8080/",
          "height": 351
        },
        "id": "NnEGXAsd61sO",
        "outputId": "9a0bd3ab-1c2b-4d1e-e297-754232d52f39"
      },
      "execution_count": null,
      "outputs": [
        {
          "output_type": "display_data",
          "data": {
            "text/plain": [
              "<Figure size 1152x360 with 2 Axes>"
            ],
            "image/png": "[encoded data removed]"
          },
          "metadata": {
            "needs_background": "light"
          }
        }
      ]
    },
    {
      "cell_type": "markdown",
      "source": [
        "*Now, it seems better. So we will apply cube root transformation in the feature*"
      ],
      "metadata": {
        "id": "Hz4-U8fm-zuZ"
      }
    },
    {
      "cell_type": "code",
      "source": [
        "#----------------------------------Block 20--------------------------------------\n",
        "\n",
        "cardekho_cardetails_data['km_driven']=np.cbrt(cardekho_cardetails_data['km_driven'])   #cube root transformation of km_driven"
      ],
      "metadata": {
        "id": "ybojXknhHqlE"
      },
      "execution_count": null,
      "outputs": []
    },
    {
      "cell_type": "code",
      "source": [
        "#----------------------------------Block 21--------------------------------------\n",
        "\n",
        "#visualising relation between km_driven and selling_price\n",
        "plt.rcParams['figure.figsize']=(8,5)   #defining figure\n",
        "plt.scatter(cardekho_cardetails_data['km_driven'],cardekho_cardetails_data['selling_price'],alpha=0.6,color='y')   #scatter plot\n",
        "plt.title('km_driven vs selling_price',fontsize=13)\n",
        "plt.show()"
      ],
      "metadata": {
        "colab": {
          "base_uri": "https://localhost:8080/",
          "height": 336
        },
        "id": "hdNFPy3PIXOF",
        "outputId": "29336615-94fe-4801-b826-f3004fde0bf8"
      },
      "execution_count": null,
      "outputs": [
        {
          "output_type": "display_data",
          "data": {
            "text/plain": [
              "<Figure size 576x360 with 1 Axes>"
            ],
            "image/png": "[encoded data removed]"
          },
          "metadata": {
            "needs_background": "light"
          }
        }
      ]
    },
    {
      "cell_type": "markdown",
      "source": [
        "*The features km_driven and selling_price seems to be negatively linearly related but have variance. The reason for the variance could be brand, model of car, owner etc*"
      ],
      "metadata": {
        "id": "aWIzXbRxAJFO"
      }
    },
    {
      "cell_type": "markdown",
      "source": [
        "*2. categorical_features analysis*"
      ],
      "metadata": {
        "id": "xHt3h_vIN-Na"
      }
    },
    {
      "cell_type": "code",
      "source": [
        "#----------------------------------Block 22--------------------------------------\n",
        "\n",
        "#visualising how categorical_features (except model and brand) are related to selling price\n",
        "fig,axes=plt.subplots(4,2,figsize=(30,36))   #defining figure and initialising axes\n",
        "for i,col in enumerate(set(categorical_features) - set(['model','brand'])): \n",
        "  #grouping by col and calculating average selling_price for that col  \n",
        "  cardekho_cardetails_data.groupby(col).agg({'selling_price':'mean'}).plot.bar(ax=axes[i,0])   #bar plot\n",
        "  axes[i,0].set_title(f'Average Selling Price across each category of {col}',fontsize=10)   #to set title\n",
        "  sns.boxplot(x=col,y='selling_price',data=cardekho_cardetails_data,ax=axes[i,1])   #boxplot\n",
        "  axes[i,1].set_title(f'Distribution of Selling Price for each category of {col}',fontsize=10)\n",
        "  fig.tight_layout() #for creating proper distance among different figures "
      ],
      "metadata": {
        "colab": {
          "base_uri": "https://localhost:8080/",
          "height": 1000
        },
        "id": "V1wOwYbTfuxm",
        "outputId": "6aeee822-c9ca-47e7-9ded-19514addefcc"
      },
      "execution_count": null,
      "outputs": [
        {
          "output_type": "display_data",
          "data": {
            "text/plain": [
              "<Figure size 2160x2592 with 8 Axes>"
            ],
            "image/png": "[encoded data removed]"
          },
          "metadata": {
            "needs_background": "light"
          }
        }
      ]
    },
    {
      "cell_type": "code",
      "source": [
        "#----------------------------------Block 23--------------------------------------\n",
        "\n",
        "#visualising how selling_price is varying for different models\n",
        "plt.rcParams['figure.figsize']=(30,8)   #defining figure\n",
        "plt.scatter(cardekho_cardetails_data['model'],cardekho_cardetails_data['selling_price'],alpha=0.6,color='seagreen')   #scatter plot\n",
        "plt.title('Variation of selling price across different models',fontsize=13)\n",
        "plt.xticks(list(cardekho_cardetails_data['model']),rotation = 90)   #to set x-ticks\n",
        "plt.show()\n"
      ],
      "metadata": {
        "colab": {
          "base_uri": "https://localhost:8080/",
          "height": 398
        },
        "id": "qvAkI5ltCqpI",
        "outputId": "b03dfba9-f6a3-4ed4-ae81-805247f32bc9"
      },
      "execution_count": null,
      "outputs": [
        {
          "output_type": "display_data",
          "data": {
            "text/plain": [
              "<Figure size 2160x576 with 1 Axes>"
            ],
            "image/png": "[encoded data removed]"
          },
          "metadata": {
            "needs_background": "light"
          }
        }
      ]
    },
    {
      "cell_type": "code",
      "source": [
        "#----------------------------------Block 24--------------------------------------\n",
        "\n",
        "#visualising how selling_price is varying for different brands\n",
        "plt.scatter(cardekho_cardetails_data['brand'],cardekho_cardetails_data['selling_price'],alpha=0.6,color='seagreen')   #scatter plot\n",
        "plt.title('Variation of selling price across different brands',fontsize=13)\n",
        "plt.show()"
      ],
      "metadata": {
        "colab": {
          "base_uri": "https://localhost:8080/",
          "height": 367
        },
        "id": "i96IN13sFGmJ",
        "outputId": "be4aa3d4-6fef-47a2-f29e-e9ae671e5825"
      },
      "execution_count": null,
      "outputs": [
        {
          "output_type": "display_data",
          "data": {
            "text/plain": [
              "<Figure size 2160x576 with 1 Axes>"
            ],
            "image/png": "[encoded data removed]"
          },
          "metadata": {
            "needs_background": "light"
          }
        }
      ]
    },
    {
      "cell_type": "markdown",
      "source": [
        "*We can see selling price for the same model and brand is varying. We will create dummy variables for brand and model to build model*"
      ],
      "metadata": {
        "id": "Z1US5RLKRHa5"
      }
    },
    {
      "cell_type": "markdown",
      "source": [
        "###**Predictive Modeling**"
      ],
      "metadata": {
        "id": "KhgPWmzYHKIX"
      }
    },
    {
      "cell_type": "markdown",
      "source": [
        "* *Label Encoding*"
      ],
      "metadata": {
        "id": "8czp6ZZ8HKIY"
      }
    },
    {
      "cell_type": "code",
      "source": [
        "#----------------------------------Block 25--------------------------------------\n",
        "\n",
        "##label encoding for categorical_features ['fuel','seller_type','transmission','owner']\n",
        "#defining a function to encode 'fuel' by observing Block 22 graphs\n",
        "def fuel_encode(x):  \n",
        "  if x in ['Electric','CNG','LPG']:\n",
        "    return 0\n",
        "  elif x == 'Petrol':\n",
        "    return 1\n",
        "  else:\n",
        "    return 2    \n",
        "\n"
      ],
      "metadata": {
        "id": "hBtOPRehHKIY"
      },
      "execution_count": null,
      "outputs": []
    },
    {
      "cell_type": "code",
      "source": [
        "#----------------------------------Block 26--------------------------------------\n",
        "\n",
        "#applying function defined in Block 25 in 'fuel' feature\n",
        "cardekho_cardetails_data['fuel']=cardekho_cardetails_data['fuel'].apply(fuel_encode)"
      ],
      "metadata": {
        "id": "fcyY_sClHKIY"
      },
      "execution_count": null,
      "outputs": []
    },
    {
      "cell_type": "code",
      "source": [
        "#----------------------------------Block 27--------------------------------------\n",
        "\n",
        "#defining a function to encode 'seller_type' by observing Block 22 graphs\n",
        "def seller_encode(x):\n",
        "  if x == 'Individual':\n",
        "    return 0\n",
        "  elif x == 'Dealer':\n",
        "    return 1\n",
        "  else:\n",
        "    return 2    "
      ],
      "metadata": {
        "id": "hmwQ9qEBHKIY"
      },
      "execution_count": null,
      "outputs": []
    },
    {
      "cell_type": "code",
      "source": [
        "#----------------------------------Block 28--------------------------------------\n",
        "\n",
        "#applying function defined in Block 27 in 'seller_type' feature\n",
        "cardekho_cardetails_data['seller_type']=cardekho_cardetails_data['seller_type'].apply(seller_encode)"
      ],
      "metadata": {
        "id": "VTu8lisxHKIZ"
      },
      "execution_count": null,
      "outputs": []
    },
    {
      "cell_type": "code",
      "source": [
        "#----------------------------------Block 29--------------------------------------\n",
        "\n",
        "#defining a function to encode 'transmission' by observing Block 22 graphs\n",
        "def transmission_encode(x):\n",
        "  if x == 'Automatic':\n",
        "    return 1\n",
        "  else:\n",
        "    return 0  "
      ],
      "metadata": {
        "id": "74DeqMNoHKIZ"
      },
      "execution_count": null,
      "outputs": []
    },
    {
      "cell_type": "code",
      "source": [
        "#----------------------------------Block 30--------------------------------------\n",
        "\n",
        "#applying function defined in Block 29 in 'transmission' feature\n",
        "cardekho_cardetails_data['transmission']=cardekho_cardetails_data['transmission'].apply(transmission_encode)"
      ],
      "metadata": {
        "id": "zfu-SsnpHKIZ"
      },
      "execution_count": null,
      "outputs": []
    },
    {
      "cell_type": "code",
      "source": [
        "#----------------------------------Block 31--------------------------------------\n",
        "\n",
        "#defining a function to encode 'owner' by observing Block 22 graphs\n",
        "def owner_encode(x):\n",
        "  if x =='Fourth & Above Owner':\n",
        "    return 0\n",
        "  elif x in['Third Owner','Second Owner']:\n",
        "    return 1\n",
        "  elif x == 'First Owner':\n",
        "    return 2\n",
        "  else:\n",
        "    return 3      "
      ],
      "metadata": {
        "id": "dVtUZBTVHKIZ"
      },
      "execution_count": null,
      "outputs": []
    },
    {
      "cell_type": "code",
      "source": [
        "#----------------------------------Block 32--------------------------------------\n",
        "\n",
        "#applying function defined in Block 31 in 'owner' feature\n",
        "cardekho_cardetails_data['owner']=cardekho_cardetails_data['owner'].apply(owner_encode)"
      ],
      "metadata": {
        "id": "WQuTyasnHKIa"
      },
      "execution_count": null,
      "outputs": []
    },
    {
      "cell_type": "markdown",
      "source": [
        "* *Variance Inflation Factor*"
      ],
      "metadata": {
        "id": "iCu5SdxzHKIa"
      }
    },
    {
      "cell_type": "code",
      "source": [
        "#----------------------------------Block 33--------------------------------------\n",
        "\n",
        "plt.figure(figsize=(10,6))   #defining figure\n",
        "sns.heatmap(cardekho_cardetails_data.corr(), annot =True)   #heatmap showing correlation between features\n",
        "plt.title('Heatmap',fontsize=13)\n",
        "plt.show()"
      ],
      "metadata": {
        "colab": {
          "base_uri": "https://localhost:8080/",
          "height": 391
        },
        "outputId": "66175aa4-4061-4186-e8ef-460b5c4ecbe8",
        "id": "hkaaUkvQHKIa"
      },
      "execution_count": null,
      "outputs": [
        {
          "output_type": "display_data",
          "data": {
            "text/plain": [
              "<Figure size 720x432 with 2 Axes>"
            ],
            "image/png": "[encoded data removed]"
          },
          "metadata": {
            "needs_background": "light"
          }
        }
      ]
    },
    {
      "cell_type": "code",
      "source": [
        "#----------------------------------Block 34--------------------------------------\n",
        "\n",
        "#function to check for multicollinearity \n",
        "from statsmodels.stats.outliers_influence import variance_inflation_factor\n",
        "def calc_vif(a): \n",
        "   # Calculating VIF (variance inflation factor)\n",
        "   vif = pd.DataFrame()\n",
        "   vif[\"variables\"] = a.columns\n",
        "   vif[\"VIF\"] = [variance_inflation_factor(a.values, j) for j in range(a.shape[1])]\n",
        "   return(vif)"
      ],
      "metadata": {
        "id": "mxh9O5tYHKIa"
      },
      "execution_count": null,
      "outputs": []
    },
    {
      "cell_type": "code",
      "source": [
        "#----------------------------------Block 35--------------------------------------\n",
        "\n",
        "#applying defined function in Block 34 to calculate VIF\n",
        "calc_vif(cardekho_cardetails_data[['year','km_driven','fuel','transmission','seller_type','owner']])"
      ],
      "metadata": {
        "colab": {
          "base_uri": "https://localhost:8080/",
          "height": 238
        },
        "outputId": "6589982f-27be-4f8d-9e87-b891e1b2b56a",
        "id": "XzWvO_-AHKIa"
      },
      "execution_count": null,
      "outputs": [
        {
          "output_type": "execute_result",
          "data": {
            "text/plain": [
              "      variables        VIF\n",
              "0          year  42.555506\n",
              "1     km_driven  22.656740\n",
              "2          fuel   9.803318\n",
              "3  transmission   1.134867\n",
              "4   seller_type   1.362842\n",
              "5         owner  12.307136"
            ],
            "text/html": [
              "\n",
              "  <div id=\"df-9f68c178-f164-4b0c-83ac-e6afb1f2d563\">\n",
              "    <div class=\"colab-df-container\">\n",
              "      <div>\n",
              "<style scoped>\n",
              "    .dataframe tbody tr th:only-of-type {\n",
              "        vertical-align: middle;\n",
              "    }\n",
              "\n",
              "    .dataframe tbody tr th {\n",
              "        vertical-align: top;\n",
              "    }\n",
              "\n",
              "    .dataframe thead th {\n",
              "        text-align: right;\n",
              "    }\n",
              "</style>\n",
              "<table border=\"1\" class=\"dataframe\">\n",
              "  <thead>\n",
              "    <tr style=\"text-align: right;\">\n",
              "      <th></th>\n",
              "      <th>variables</th>\n",
              "      <th>VIF</th>\n",
              "    </tr>\n",
              "  </thead>\n",
              "  <tbody>\n",
              "    <tr>\n",
              "      <th>0</th>\n",
              "      <td>year</td>\n",
              "      <td>42.555506</td>\n",
              "    </tr>\n",
              "    <tr>\n",
              "      <th>1</th>\n",
              "      <td>km_driven</td>\n",
              "      <td>22.656740</td>\n",
              "    </tr>\n",
              "    <tr>\n",
              "      <th>2</th>\n",
              "      <td>fuel</td>\n",
              "      <td>9.803318</td>\n",
              "    </tr>\n",
              "    <tr>\n",
              "      <th>3</th>\n",
              "      <td>transmission</td>\n",
              "      <td>1.134867</td>\n",
              "    </tr>\n",
              "    <tr>\n",
              "      <th>4</th>\n",
              "      <td>seller_type</td>\n",
              "      <td>1.362842</td>\n",
              "    </tr>\n",
              "    <tr>\n",
              "      <th>5</th>\n",
              "      <td>owner</td>\n",
              "      <td>12.307136</td>\n",
              "    </tr>\n",
              "  </tbody>\n",
              "</table>\n",
              "</div>\n",
              "      <button class=\"colab-df-convert\" onclick=\"convertToInteractive('df-9f68c178-f164-4b0c-83ac-e6afb1f2d563')\"\n",
              "              title=\"Convert this dataframe to an interactive table.\"\n",
              "              style=\"display:none;\">\n",
              "        \n",
              "  <svg xmlns=\"http://www.w3.org/2000/svg\" height=\"24px\"viewBox=\"0 0 24 24\"\n",
              "       width=\"24px\">\n",
              "    <path d=\"M0 0h24v24H0V0z\" fill=\"none\"/>\n",
              "    <path d=\"M18.56 5.44l.94 2.06.94-2.06 2.06-.94-2.06-.94-.94-2.06-.94 2.06-2.06.94zm-11 1L8.5 8.5l.94-2.06 2.06-.94-2.06-.94L8.5 2.5l-.94 2.06-2.06.94zm10 10l.94 2.06.94-2.06 2.06-.94-2.06-.94-.94-2.06-.94 2.06-2.06.94z\"/><path d=\"M17.41 7.96l-1.37-1.37c-.4-.4-.92-.59-1.43-.59-.52 0-1.04.2-1.43.59L10.3 9.45l-7.72 7.72c-.78.78-.78 2.05 0 2.83L4 21.41c.39.39.9.59 1.41.59.51 0 1.02-.2 1.41-.59l7.78-7.78 2.81-2.81c.8-.78.8-2.07 0-2.86zM5.41 20L4 18.59l7.72-7.72 1.47 1.35L5.41 20z\"/>\n",
              "  </svg>\n",
              "      </button>\n",
              "      \n",
              "  <style>\n",
              "    .colab-df-container {\n",
              "      display:flex;\n",
              "      flex-wrap:wrap;\n",
              "      gap: 12px;\n",
              "    }\n",
              "\n",
              "    .colab-df-convert {\n",
              "      background-color: #E8F0FE;\n",
              "      border: none;\n",
              "      border-radius: 50%;\n",
              "      cursor: pointer;\n",
              "      display: none;\n",
              "      fill: #1967D2;\n",
              "      height: 32px;\n",
              "      padding: 0 0 0 0;\n",
              "      width: 32px;\n",
              "    }\n",
              "\n",
              "    .colab-df-convert:hover {\n",
              "      background-color: #E2EBFA;\n",
              "      box-shadow: 0px 1px 2px rgba(60, 64, 67, 0.3), 0px 1px 3px 1px rgba(60, 64, 67, 0.15);\n",
              "      fill: #174EA6;\n",
              "    }\n",
              "\n",
              "    [theme=dark] .colab-df-convert {\n",
              "      background-color: #3B4455;\n",
              "      fill: #D2E3FC;\n",
              "    }\n",
              "\n",
              "    [theme=dark] .colab-df-convert:hover {\n",
              "      background-color: #434B5C;\n",
              "      box-shadow: 0px 1px 3px 1px rgba(0, 0, 0, 0.15);\n",
              "      filter: drop-shadow(0px 1px 2px rgba(0, 0, 0, 0.3));\n",
              "      fill: #FFFFFF;\n",
              "    }\n",
              "  </style>\n",
              "\n",
              "      <script>\n",
              "        const buttonEl =\n",
              "          document.querySelector('#df-9f68c178-f164-4b0c-83ac-e6afb1f2d563 button.colab-df-convert');\n",
              "        buttonEl.style.display =\n",
              "          google.colab.kernel.accessAllowed ? 'block' : 'none';\n",
              "\n",
              "        async function convertToInteractive(key) {\n",
              "          const element = document.querySelector('#df-9f68c178-f164-4b0c-83ac-e6afb1f2d563');\n",
              "          const dataTable =\n",
              "            await google.colab.kernel.invokeFunction('convertToInteractive',\n",
              "                                                     [key], {});\n",
              "          if (!dataTable) return;\n",
              "\n",
              "          const docLinkHtml = 'Like what you see? Visit the ' +\n",
              "            '<a target=\"_blank\" href=https://colab.research.google.com/notebooks/data_table.ipynb>data table notebook</a>'\n",
              "            + ' to learn more about interactive tables.';\n",
              "          element.innerHTML = '';\n",
              "          dataTable['output_type'] = 'display_data';\n",
              "          await google.colab.output.renderOutput(dataTable, element);\n",
              "          const docLink = document.createElement('div');\n",
              "          docLink.innerHTML = docLinkHtml;\n",
              "          element.appendChild(docLink);\n",
              "        }\n",
              "      </script>\n",
              "    </div>\n",
              "  </div>\n",
              "  "
            ]
          },
          "metadata": {},
          "execution_count": 46
        }
      ]
    },
    {
      "cell_type": "markdown",
      "source": [
        "*From heatmap and above block there seems to be a multicollinearity between year and km_driven but we will not drop any of these two features as this may lead to information loss*"
      ],
      "metadata": {
        "id": "ces7nBmDHKIb"
      }
    },
    {
      "cell_type": "markdown",
      "source": [
        "* *One Hot Encoding*"
      ],
      "metadata": {
        "id": "fmlB9Y_kHKIb"
      }
    },
    {
      "cell_type": "code",
      "source": [
        "#----------------------------------Block 36--------------------------------------\n",
        "\n",
        "#one hot encoding for 'brand' and 'model' to get dummy variables\n",
        "cardekho_cardetails_data = pd.get_dummies(cardekho_cardetails_data)"
      ],
      "metadata": {
        "id": "ww1ii0_OHKIb"
      },
      "execution_count": null,
      "outputs": []
    },
    {
      "cell_type": "code",
      "source": [
        "#----------------------------------Block 37--------------------------------------\n",
        "\n",
        "pd.set_option('max_columns', None)   #to show all the columns of dataframe\n",
        "cardekho_cardetails_data.head()   #looking for 1st five observations"
      ],
      "metadata": {
        "colab": {
          "base_uri": "https://localhost:8080/",
          "height": 288
        },
        "outputId": "a949e323-16ab-4ebb-f7d2-6b8f42d19ad7",
        "id": "0Svi_oWcHKIb"
      },
      "execution_count": null,
      "outputs": [
        {
          "output_type": "execute_result",
          "data": {
            "text/plain": [
              "   year  selling_price  km_driven  fuel  seller_type  transmission  owner  \\\n",
              "0  2007      39.148676  41.212853     1            0             0      2   \n",
              "1  2007      51.299278  36.840315     1            0             0      2   \n",
              "2  2012      84.343267  46.415888     2            0             0      2   \n",
              "3  2017      62.996052  35.830479     1            0             0      2   \n",
              "4  2014      76.630943  52.048279     2            0             0      1   \n",
              "\n",
              "   brand_Ambassador  brand_Audi  brand_BMW  brand_Chevrolet  brand_Daewoo  \\\n",
              "0                 0           0          0                0             0   \n",
              "1                 0           0          0                0             0   \n",
              "2                 0           0          0                0             0   \n",
              "3                 0           0          0                0             0   \n",
              "4                 0           0          0                0             0   \n",
              "\n",
              "   brand_Datsun  brand_Fiat  brand_Force  brand_Ford  brand_Honda  \\\n",
              "0             0           0            0           0            0   \n",
              "1             0           0            0           0            0   \n",
              "2             0           0            0           0            0   \n",
              "3             1           0            0           0            0   \n",
              "4             0           0            0           0            1   \n",
              "\n",
              "   brand_Hyundai  brand_Isuzu  brand_Jaguar  brand_Jeep  brand_Kia  \\\n",
              "0              0            0             0           0          0   \n",
              "1              0            0             0           0          0   \n",
              "2              1            0             0           0          0   \n",
              "3              0            0             0           0          0   \n",
              "4              0            0             0           0          0   \n",
              "\n",
              "   brand_Land  brand_MG  brand_Mahindra  brand_Maruti  brand_Mercedes-Benz  \\\n",
              "0           0         0               0             1                    0   \n",
              "1           0         0               0             1                    0   \n",
              "2           0         0               0             0                    0   \n",
              "3           0         0               0             0                    0   \n",
              "4           0         0               0             0                    0   \n",
              "\n",
              "   brand_Mitsubishi  brand_Nissan  brand_OpelCorsa  brand_Renault  \\\n",
              "0                 0             0                0              0   \n",
              "1                 0             0                0              0   \n",
              "2                 0             0                0              0   \n",
              "3                 0             0                0              0   \n",
              "4                 0             0                0              0   \n",
              "\n",
              "   brand_Skoda  brand_Tata  brand_Toyota  brand_Volkswagen  brand_Volvo  \\\n",
              "0            0           0             0                 0            0   \n",
              "1            0           0             0                 0            0   \n",
              "2            0           0             0                 0            0   \n",
              "3            0           0             0                 0            0   \n",
              "4            0           0             0                 0            0   \n",
              "\n",
              "   model_1.4  model_1.6Gls  model_3  model_5  model_500  model_7  model_800  \\\n",
              "0          0             0        0        0          0        0          1   \n",
              "1          0             0        0        0          0        0          0   \n",
              "2          0             0        0        0          0        0          0   \n",
              "3          0             0        0        0          0        0          0   \n",
              "4          0             0        0        0          0        0          0   \n",
              "\n",
              "   model_A-Star  model_A4  model_A5  model_A6  model_A8  model_Accent  \\\n",
              "0             0         0         0         0         0             0   \n",
              "1             0         0         0         0         0             0   \n",
              "2             0         0         0         0         0             0   \n",
              "3             0         0         0         0         0             0   \n",
              "4             0         0         0         0         0             0   \n",
              "\n",
              "   model_Accord  model_Alto  model_Altroz  model_Alturas  model_Amaze  \\\n",
              "0             0           0             0              0            0   \n",
              "1             0           0             0              0            0   \n",
              "2             0           0             0              0            0   \n",
              "3             0           0             0              0            0   \n",
              "4             0           0             0              0            1   \n",
              "\n",
              "   model_Ameo  model_Aria  model_Aspire  model_Aveo  model_Avventura  model_B  \\\n",
              "0           0           0             0           0                0        0   \n",
              "1           0           0             0           0                0        0   \n",
              "2           0           0             0           0                0        0   \n",
              "3           0           0             0           0                0        0   \n",
              "4           0           0             0           0                0        0   \n",
              "\n",
              "   model_BR-V  model_BRV  model_Baleno  model_Beat  model_Bolero  model_Bolt  \\\n",
              "0           0          0             0           0             0           0   \n",
              "1           0          0             0           0             0           0   \n",
              "2           0          0             0           0             0           0   \n",
              "3           0          0             0           0             0           0   \n",
              "4           0          0             0           0             0           0   \n",
              "\n",
              "   model_Brio  model_C-Class  model_CLASSIC  model_CR-V  model_Camry  \\\n",
              "0           0              0              0           0            0   \n",
              "1           0              0              0           0            0   \n",
              "2           0              0              0           0            0   \n",
              "3           0              0              0           0            0   \n",
              "4           0              0              0           0            0   \n",
              "\n",
              "   model_Captiva  model_Captur  model_Celerio  model_Ciaz  model_City  \\\n",
              "0              0             0              0           0           0   \n",
              "1              0             0              0           0           0   \n",
              "2              0             0              0           0           0   \n",
              "3              0             0              0           0           0   \n",
              "4              0             0              0           0           0   \n",
              "\n",
              "   model_Civic  model_Classic  model_Compass  model_Corolla  model_Creta  \\\n",
              "0            0              0              0              0            0   \n",
              "1            0              0              0              0            0   \n",
              "2            0              0              0              0            0   \n",
              "3            0              0              0              0            0   \n",
              "4            0              0              0              0            0   \n",
              "\n",
              "   model_CrossPolo  model_Cruze  model_D-Max  model_Duster  model_E-Class  \\\n",
              "0                0            0            0             0              0   \n",
              "1                0            0            0             0              0   \n",
              "2                0            0            0             0              0   \n",
              "3                0            0            0             0              0   \n",
              "4                0            0            0             0              0   \n",
              "\n",
              "   model_EON  model_EcoSport  model_Ecosport  model_Eeco  model_Elantra  \\\n",
              "0          0               0               0           0              0   \n",
              "1          0               0               0           0              0   \n",
              "2          0               0               0           0              0   \n",
              "3          0               0               0           0              0   \n",
              "4          0               0               0           0              0   \n",
              "\n",
              "   model_Elite  model_Endeavour  model_Enjoy  model_Ertiga  model_Esteem  \\\n",
              "0            0                0            0             0             0   \n",
              "1            0                0            0             0             0   \n",
              "2            0                0            0             0             0   \n",
              "3            0                0            0             0             0   \n",
              "4            0                0            0             0             0   \n",
              "\n",
              "   model_Estilo  model_Etios  model_Evalia  model_Fabia  model_Fiesta  \\\n",
              "0             0            0             0            0             0   \n",
              "1             0            0             0            0             0   \n",
              "2             0            0             0            0             0   \n",
              "3             0            0             0            0             0   \n",
              "4             0            0             0            0             0   \n",
              "\n",
              "   model_Figo  model_Fluence  model_Fortuner  model_Freestyle  model_Fusion  \\\n",
              "0           0              0               0                0             0   \n",
              "1           0              0               0                0             0   \n",
              "2           0              0               0                0             0   \n",
              "3           0              0               0                0             0   \n",
              "4           0              0               0                0             0   \n",
              "\n",
              "   model_GL-Class  model_GLS  model_GO  model_Getz  model_Grand  model_Grande  \\\n",
              "0               0          0         0           0            0             0   \n",
              "1               0          0         0           0            0             0   \n",
              "2               0          0         0           0            0             0   \n",
              "3               0          0         0           0            0             0   \n",
              "4               0          0         0           0            0             0   \n",
              "\n",
              "   model_Gypsy  model_Harrier  model_Hector  model_Hexa  model_Ignis  \\\n",
              "0            0              0             0           0            0   \n",
              "1            0              0             0           0            0   \n",
              "2            0              0             0           0            0   \n",
              "3            0              0             0           0            0   \n",
              "4            0              0             0           0            0   \n",
              "\n",
              "   model_Ikon  model_Indica  model_Indigo  model_Ingenio  model_Innova  \\\n",
              "0           0             0             0              0             0   \n",
              "1           0             0             0              0             0   \n",
              "2           0             0             0              0             0   \n",
              "3           0             0             0              0             0   \n",
              "4           0             0             0              0             0   \n",
              "\n",
              "   model_Jazz  model_Jeep  model_Jetta  model_KUV  model_KWID  model_Kicks  \\\n",
              "0           0           0            0          0           0            0   \n",
              "1           0           0            0          0           0            0   \n",
              "2           0           0            0          0           0            0   \n",
              "3           0           0            0          0           0            0   \n",
              "4           0           0            0          0           0            0   \n",
              "\n",
              "   model_Koleos  model_Laura  model_Linea  model_Lodgy  model_M-Class  \\\n",
              "0             0            0            0            0              0   \n",
              "1             0            0            0            0              0   \n",
              "2             0            0            0            0              0   \n",
              "3             0            0            0            0              0   \n",
              "4             0            0            0            0              0   \n",
              "\n",
              "   model_Manza  model_Marazzo  model_Matiz  model_Micra  model_Mobilio  \\\n",
              "0            0              0            0            0              0   \n",
              "1            0              0            0            0              0   \n",
              "2            0              0            0            0              0   \n",
              "3            0              0            0            0              0   \n",
              "4            0              0            0            0              0   \n",
              "\n",
              "   model_Montero  model_Nano  model_New  model_Nexon  model_NuvoSport  \\\n",
              "0              0           0          0            0                0   \n",
              "1              0           0          0            0                0   \n",
              "2              0           0          0            0                0   \n",
              "3              0           0          0            0                0   \n",
              "4              0           0          0            0                0   \n",
              "\n",
              "   model_Octavia  model_Omni  model_One  model_Optra  model_Outlander  \\\n",
              "0              0           0          0            0                0   \n",
              "1              0           0          0            0                0   \n",
              "2              0           0          0            0                0   \n",
              "3              0           0          0            0                0   \n",
              "4              0           0          0            0                0   \n",
              "\n",
              "   model_Pajero  model_Palio  model_Passat  model_Polo  model_Pulse  \\\n",
              "0             0            0             0           0            0   \n",
              "1             0            0             0           0            0   \n",
              "2             0            0             0           0            0   \n",
              "3             0            0             0           0            0   \n",
              "4             0            0             0           0            0   \n",
              "\n",
              "   model_Punto  model_Q3  model_Q5  model_Q7  model_Qualis  model_Quanto  \\\n",
              "0            0         0         0         0             0             0   \n",
              "1            0         0         0         0             0             0   \n",
              "2            0         0         0         0             0             0   \n",
              "3            0         0         0         0             0             0   \n",
              "4            0         0         0         0             0             0   \n",
              "\n",
              "   model_RS7  model_Rapid  model_RediGO  model_Renault  model_Ritz  \\\n",
              "0          0            0             0              0           0   \n",
              "1          0            0             0              0           0   \n",
              "2          0            0             0              0           0   \n",
              "3          0            0             1              0           0   \n",
              "4          0            0             0              0           0   \n",
              "\n",
              "   model_Rover  model_S-Class  model_S-Cross  model_S-Presso  model_SX4  \\\n",
              "0            0              0              0               0          0   \n",
              "1            0              0              0               0          0   \n",
              "2            0              0              0               0          0   \n",
              "3            0              0              0               0          0   \n",
              "4            0              0              0               0          0   \n",
              "\n",
              "   model_Safari  model_Sail  model_Santa  model_Santro  model_Scala  \\\n",
              "0             0           0            0             0            0   \n",
              "1             0           0            0             0            0   \n",
              "2             0           0            0             0            0   \n",
              "3             0           0            0             0            0   \n",
              "4             0           0            0             0            0   \n",
              "\n",
              "   model_Scorpio  model_Seltos  model_Sonata  model_Spacio  model_Spark  \\\n",
              "0              0             0             0             0            0   \n",
              "1              0             0             0             0            0   \n",
              "2              0             0             0             0            0   \n",
              "3              0             0             0             0            0   \n",
              "4              0             0             0             0            0   \n",
              "\n",
              "   model_Sumo  model_Sunny  model_Superb  model_Supro  model_Swift  model_TUV  \\\n",
              "0           0            0             0            0            0          0   \n",
              "1           0            0             0            0            0          0   \n",
              "2           0            0             0            0            0          0   \n",
              "3           0            0             0            0            0          0   \n",
              "4           0            0             0            0            0          0   \n",
              "\n",
              "   model_Tavera  model_Terrano  model_Thar  model_Tiago  model_Tigor  \\\n",
              "0             0              0           0            0            0   \n",
              "1             0              0           0            0            0   \n",
              "2             0              0           0            0            0   \n",
              "3             0              0           0            0            0   \n",
              "4             0              0           0            0            0   \n",
              "\n",
              "   model_Triber  model_Tucson  model_V40  model_Vento  model_Venture  \\\n",
              "0             0             0          0            0              0   \n",
              "1             0             0          0            0              0   \n",
              "2             0             0          0            0              0   \n",
              "3             0             0          0            0              0   \n",
              "4             0             0          0            0              0   \n",
              "\n",
              "   model_Venue  model_Verito  model_Verna  model_Vitara  model_WR-V  \\\n",
              "0            0             0            0             0           0   \n",
              "1            0             0            0             0           0   \n",
              "2            0             0            1             0           0   \n",
              "3            0             0            0             0           0   \n",
              "4            0             0            0             0           0   \n",
              "\n",
              "   model_Wagon  model_Winger  model_X-Trail  model_X1  model_X5  model_XC  \\\n",
              "0            0             0              0         0         0         0   \n",
              "1            1             0              0         0         0         0   \n",
              "2            0             0              0         0         0         0   \n",
              "3            0             0              0         0         0         0   \n",
              "4            0             0              0         0         0         0   \n",
              "\n",
              "   model_XC60  model_XF  model_XJ  model_XUV300  model_XUV500  model_Xcent  \\\n",
              "0           0         0         0             0             0            0   \n",
              "1           0         0         0             0             0            0   \n",
              "2           0         0         0             0             0            0   \n",
              "3           0         0         0             0             0            0   \n",
              "4           0         0         0             0             0            0   \n",
              "\n",
              "   model_Xenon  model_Xylo  model_Yaris  model_Yeti  model_Zen  model_Zest  \\\n",
              "0            0           0            0           0          0           0   \n",
              "1            0           0            0           0          0           0   \n",
              "2            0           0            0           0          0           0   \n",
              "3            0           0            0           0          0           0   \n",
              "4            0           0            0           0          0           0   \n",
              "\n",
              "   model_i10  model_i20  model_redi-GO  \n",
              "0          0          0              0  \n",
              "1          0          0              0  \n",
              "2          0          0              0  \n",
              "3          0          0              0  \n",
              "4          0          0              0  "
            ],
            "text/html": [
              "\n",
              "  <div id=\"df-d4909102-f797-4bab-9f79-ffc447333490\">\n",
              "    <div class=\"colab-df-container\">\n",
              "      <div>\n",
              "<style scoped>\n",
              "    .dataframe tbody tr th:only-of-type {\n",
              "        vertical-align: middle;\n",
              "    }\n",
              "\n",
              "    .dataframe tbody tr th {\n",
              "        vertical-align: top;\n",
              "    }\n",
              "\n",
              "    .dataframe thead th {\n",
              "        text-align: right;\n",
              "    }\n",
              "</style>\n",
              "<table border=\"1\" class=\"dataframe\">\n",
              "  <thead>\n",
              "    <tr style=\"text-align: right;\">\n",
              "      <th></th>\n",
              "      <th>year</th>\n",
              "      <th>selling_price</th>\n",
              "      <th>km_driven</th>\n",
              "      <th>fuel</th>\n",
              "      <th>seller_type</th>\n",
              "      <th>transmission</th>\n",
              "      <th>owner</th>\n",
              "      <th>brand_Ambassador</th>\n",
              "      <th>brand_Audi</th>\n",
              "      <th>brand_BMW</th>\n",
              "      <th>brand_Chevrolet</th>\n",
              "      <th>brand_Daewoo</th>\n",
              "      <th>brand_Datsun</th>\n",
              "      <th>brand_Fiat</th>\n",
              "      <th>brand_Force</th>\n",
              "      <th>brand_Ford</th>\n",
              "      <th>brand_Honda</th>\n",
              "      <th>brand_Hyundai</th>\n",
              "      <th>brand_Isuzu</th>\n",
              "      <th>brand_Jaguar</th>\n",
              "      <th>brand_Jeep</th>\n",
              "      <th>brand_Kia</th>\n",
              "      <th>brand_Land</th>\n",
              "      <th>brand_MG</th>\n",
              "      <th>brand_Mahindra</th>\n",
              "      <th>brand_Maruti</th>\n",
              "      <th>brand_Mercedes-Benz</th>\n",
              "      <th>brand_Mitsubishi</th>\n",
              "      <th>brand_Nissan</th>\n",
              "      <th>brand_OpelCorsa</th>\n",
              "      <th>brand_Renault</th>\n",
              "      <th>brand_Skoda</th>\n",
              "      <th>brand_Tata</th>\n",
              "      <th>brand_Toyota</th>\n",
              "      <th>brand_Volkswagen</th>\n",
              "      <th>brand_Volvo</th>\n",
              "      <th>model_1.4</th>\n",
              "      <th>model_1.6Gls</th>\n",
              "      <th>model_3</th>\n",
              "      <th>model_5</th>\n",
              "      <th>model_500</th>\n",
              "      <th>model_7</th>\n",
              "      <th>model_800</th>\n",
              "      <th>model_A-Star</th>\n",
              "      <th>model_A4</th>\n",
              "      <th>model_A5</th>\n",
              "      <th>model_A6</th>\n",
              "      <th>model_A8</th>\n",
              "      <th>model_Accent</th>\n",
              "      <th>model_Accord</th>\n",
              "      <th>model_Alto</th>\n",
              "      <th>model_Altroz</th>\n",
              "      <th>model_Alturas</th>\n",
              "      <th>model_Amaze</th>\n",
              "      <th>model_Ameo</th>\n",
              "      <th>model_Aria</th>\n",
              "      <th>model_Aspire</th>\n",
              "      <th>model_Aveo</th>\n",
              "      <th>model_Avventura</th>\n",
              "      <th>model_B</th>\n",
              "      <th>model_BR-V</th>\n",
              "      <th>model_BRV</th>\n",
              "      <th>model_Baleno</th>\n",
              "      <th>model_Beat</th>\n",
              "      <th>model_Bolero</th>\n",
              "      <th>model_Bolt</th>\n",
              "      <th>model_Brio</th>\n",
              "      <th>model_C-Class</th>\n",
              "      <th>model_CLASSIC</th>\n",
              "      <th>model_CR-V</th>\n",
              "      <th>model_Camry</th>\n",
              "      <th>model_Captiva</th>\n",
              "      <th>model_Captur</th>\n",
              "      <th>model_Celerio</th>\n",
              "      <th>model_Ciaz</th>\n",
              "      <th>model_City</th>\n",
              "      <th>model_Civic</th>\n",
              "      <th>model_Classic</th>\n",
              "      <th>model_Compass</th>\n",
              "      <th>model_Corolla</th>\n",
              "      <th>model_Creta</th>\n",
              "      <th>model_CrossPolo</th>\n",
              "      <th>model_Cruze</th>\n",
              "      <th>model_D-Max</th>\n",
              "      <th>model_Duster</th>\n",
              "      <th>model_E-Class</th>\n",
              "      <th>model_EON</th>\n",
              "      <th>model_EcoSport</th>\n",
              "      <th>model_Ecosport</th>\n",
              "      <th>model_Eeco</th>\n",
              "      <th>model_Elantra</th>\n",
              "      <th>model_Elite</th>\n",
              "      <th>model_Endeavour</th>\n",
              "      <th>model_Enjoy</th>\n",
              "      <th>model_Ertiga</th>\n",
              "      <th>model_Esteem</th>\n",
              "      <th>model_Estilo</th>\n",
              "      <th>model_Etios</th>\n",
              "      <th>model_Evalia</th>\n",
              "      <th>model_Fabia</th>\n",
              "      <th>model_Fiesta</th>\n",
              "      <th>model_Figo</th>\n",
              "      <th>model_Fluence</th>\n",
              "      <th>model_Fortuner</th>\n",
              "      <th>model_Freestyle</th>\n",
              "      <th>model_Fusion</th>\n",
              "      <th>model_GL-Class</th>\n",
              "      <th>model_GLS</th>\n",
              "      <th>model_GO</th>\n",
              "      <th>model_Getz</th>\n",
              "      <th>model_Grand</th>\n",
              "      <th>model_Grande</th>\n",
              "      <th>model_Gypsy</th>\n",
              "      <th>model_Harrier</th>\n",
              "      <th>model_Hector</th>\n",
              "      <th>model_Hexa</th>\n",
              "      <th>model_Ignis</th>\n",
              "      <th>model_Ikon</th>\n",
              "      <th>model_Indica</th>\n",
              "      <th>model_Indigo</th>\n",
              "      <th>model_Ingenio</th>\n",
              "      <th>model_Innova</th>\n",
              "      <th>model_Jazz</th>\n",
              "      <th>model_Jeep</th>\n",
              "      <th>model_Jetta</th>\n",
              "      <th>model_KUV</th>\n",
              "      <th>model_KWID</th>\n",
              "      <th>model_Kicks</th>\n",
              "      <th>model_Koleos</th>\n",
              "      <th>model_Laura</th>\n",
              "      <th>model_Linea</th>\n",
              "      <th>model_Lodgy</th>\n",
              "      <th>model_M-Class</th>\n",
              "      <th>model_Manza</th>\n",
              "      <th>model_Marazzo</th>\n",
              "      <th>model_Matiz</th>\n",
              "      <th>model_Micra</th>\n",
              "      <th>model_Mobilio</th>\n",
              "      <th>model_Montero</th>\n",
              "      <th>model_Nano</th>\n",
              "      <th>model_New</th>\n",
              "      <th>model_Nexon</th>\n",
              "      <th>model_NuvoSport</th>\n",
              "      <th>model_Octavia</th>\n",
              "      <th>model_Omni</th>\n",
              "      <th>model_One</th>\n",
              "      <th>model_Optra</th>\n",
              "      <th>model_Outlander</th>\n",
              "      <th>model_Pajero</th>\n",
              "      <th>model_Palio</th>\n",
              "      <th>model_Passat</th>\n",
              "      <th>model_Polo</th>\n",
              "      <th>model_Pulse</th>\n",
              "      <th>model_Punto</th>\n",
              "      <th>model_Q3</th>\n",
              "      <th>model_Q5</th>\n",
              "      <th>model_Q7</th>\n",
              "      <th>model_Qualis</th>\n",
              "      <th>model_Quanto</th>\n",
              "      <th>model_RS7</th>\n",
              "      <th>model_Rapid</th>\n",
              "      <th>model_RediGO</th>\n",
              "      <th>model_Renault</th>\n",
              "      <th>model_Ritz</th>\n",
              "      <th>model_Rover</th>\n",
              "      <th>model_S-Class</th>\n",
              "      <th>model_S-Cross</th>\n",
              "      <th>model_S-Presso</th>\n",
              "      <th>model_SX4</th>\n",
              "      <th>model_Safari</th>\n",
              "      <th>model_Sail</th>\n",
              "      <th>model_Santa</th>\n",
              "      <th>model_Santro</th>\n",
              "      <th>model_Scala</th>\n",
              "      <th>model_Scorpio</th>\n",
              "      <th>model_Seltos</th>\n",
              "      <th>model_Sonata</th>\n",
              "      <th>model_Spacio</th>\n",
              "      <th>model_Spark</th>\n",
              "      <th>model_Sumo</th>\n",
              "      <th>model_Sunny</th>\n",
              "      <th>model_Superb</th>\n",
              "      <th>model_Supro</th>\n",
              "      <th>model_Swift</th>\n",
              "      <th>model_TUV</th>\n",
              "      <th>model_Tavera</th>\n",
              "      <th>model_Terrano</th>\n",
              "      <th>model_Thar</th>\n",
              "      <th>model_Tiago</th>\n",
              "      <th>model_Tigor</th>\n",
              "      <th>model_Triber</th>\n",
              "      <th>model_Tucson</th>\n",
              "      <th>model_V40</th>\n",
              "      <th>model_Vento</th>\n",
              "      <th>model_Venture</th>\n",
              "      <th>model_Venue</th>\n",
              "      <th>model_Verito</th>\n",
              "      <th>model_Verna</th>\n",
              "      <th>model_Vitara</th>\n",
              "      <th>model_WR-V</th>\n",
              "      <th>model_Wagon</th>\n",
              "      <th>model_Winger</th>\n",
              "      <th>model_X-Trail</th>\n",
              "      <th>model_X1</th>\n",
              "      <th>model_X5</th>\n",
              "      <th>model_XC</th>\n",
              "      <th>model_XC60</th>\n",
              "      <th>model_XF</th>\n",
              "      <th>model_XJ</th>\n",
              "      <th>model_XUV300</th>\n",
              "      <th>model_XUV500</th>\n",
              "      <th>model_Xcent</th>\n",
              "      <th>model_Xenon</th>\n",
              "      <th>model_Xylo</th>\n",
              "      <th>model_Yaris</th>\n",
              "      <th>model_Yeti</th>\n",
              "      <th>model_Zen</th>\n",
              "      <th>model_Zest</th>\n",
              "      <th>model_i10</th>\n",
              "      <th>model_i20</th>\n",
              "      <th>model_redi-GO</th>\n",
              "    </tr>\n",
              "  </thead>\n",
              "  <tbody>\n",
              "    <tr>\n",
              "      <th>0</th>\n",
              "      <td>2007</td>\n",
              "      <td>39.148676</td>\n",
              "      <td>41.212853</td>\n",
              "      <td>1</td>\n",
              "      <td>0</td>\n",
              "      <td>0</td>\n",
              "      <td>2</td>\n",
              "      <td>0</td>\n",
              "      <td>0</td>\n",
              "      <td>0</td>\n",
              "      <td>0</td>\n",
              "      <td>0</td>\n",
              "      <td>0</td>\n",
              "      <td>0</td>\n",
              "      <td>0</td>\n",
              "      <td>0</td>\n",
              "      <td>0</td>\n",
              "      <td>0</td>\n",
              "      <td>0</td>\n",
              "      <td>0</td>\n",
              "      <td>0</td>\n",
              "      <td>0</td>\n",
              "      <td>0</td>\n",
              "      <td>0</td>\n",
              "      <td>0</td>\n",
              "      <td>1</td>\n",
              "      <td>0</td>\n",
              "      <td>0</td>\n",
              "      <td>0</td>\n",
              "      <td>0</td>\n",
              "      <td>0</td>\n",
              "      <td>0</td>\n",
              "      <td>0</td>\n",
              "      <td>0</td>\n",
              "      <td>0</td>\n",
              "      <td>0</td>\n",
              "      <td>0</td>\n",
              "      <td>0</td>\n",
              "      <td>0</td>\n",
              "      <td>0</td>\n",
              "      <td>0</td>\n",
              "      <td>0</td>\n",
              "      <td>1</td>\n",
              "      <td>0</td>\n",
              "      <td>0</td>\n",
              "      <td>0</td>\n",
              "      <td>0</td>\n",
              "      <td>0</td>\n",
              "      <td>0</td>\n",
              "      <td>0</td>\n",
              "      <td>0</td>\n",
              "      <td>0</td>\n",
              "      <td>0</td>\n",
              "      <td>0</td>\n",
              "      <td>0</td>\n",
              "      <td>0</td>\n",
              "      <td>0</td>\n",
              "      <td>0</td>\n",
              "      <td>0</td>\n",
              "      <td>0</td>\n",
              "      <td>0</td>\n",
              "      <td>0</td>\n",
              "      <td>0</td>\n",
              "      <td>0</td>\n",
              "      <td>0</td>\n",
              "      <td>0</td>\n",
              "      <td>0</td>\n",
              "      <td>0</td>\n",
              "      <td>0</td>\n",
              "      <td>0</td>\n",
              "      <td>0</td>\n",
              "      <td>0</td>\n",
              "      <td>0</td>\n",
              "      <td>0</td>\n",
              "      <td>0</td>\n",
              "      <td>0</td>\n",
              "      <td>0</td>\n",
              "      <td>0</td>\n",
              "      <td>0</td>\n",
              "      <td>0</td>\n",
              "      <td>0</td>\n",
              "      <td>0</td>\n",
              "      <td>0</td>\n",
              "      <td>0</td>\n",
              "      <td>0</td>\n",
              "      <td>0</td>\n",
              "      <td>0</td>\n",
              "      <td>0</td>\n",
              "      <td>0</td>\n",
              "      <td>0</td>\n",
              "      <td>0</td>\n",
              "      <td>0</td>\n",
              "      <td>0</td>\n",
              "      <td>0</td>\n",
              "      <td>0</td>\n",
              "      <td>0</td>\n",
              "      <td>0</td>\n",
              "      <td>0</td>\n",
              "      <td>0</td>\n",
              "      <td>0</td>\n",
              "      <td>0</td>\n",
              "      <td>0</td>\n",
              "      <td>0</td>\n",
              "      <td>0</td>\n",
              "      <td>0</td>\n",
              "      <td>0</td>\n",
              "      <td>0</td>\n",
              "      <td>0</td>\n",
              "      <td>0</td>\n",
              "      <td>0</td>\n",
              "      <td>0</td>\n",
              "      <td>0</td>\n",
              "      <td>0</td>\n",
              "      <td>0</td>\n",
              "      <td>0</td>\n",
              "      <td>0</td>\n",
              "      <td>0</td>\n",
              "      <td>0</td>\n",
              "      <td>0</td>\n",
              "      <td>0</td>\n",
              "      <td>0</td>\n",
              "      <td>0</td>\n",
              "      <td>0</td>\n",
              "      <td>0</td>\n",
              "      <td>0</td>\n",
              "      <td>0</td>\n",
              "      <td>0</td>\n",
              "      <td>0</td>\n",
              "      <td>0</td>\n",
              "      <td>0</td>\n",
              "      <td>0</td>\n",
              "      <td>0</td>\n",
              "      <td>0</td>\n",
              "      <td>0</td>\n",
              "      <td>0</td>\n",
              "      <td>0</td>\n",
              "      <td>0</td>\n",
              "      <td>0</td>\n",
              "      <td>0</td>\n",
              "      <td>0</td>\n",
              "      <td>0</td>\n",
              "      <td>0</td>\n",
              "      <td>0</td>\n",
              "      <td>0</td>\n",
              "      <td>0</td>\n",
              "      <td>0</td>\n",
              "      <td>0</td>\n",
              "      <td>0</td>\n",
              "      <td>0</td>\n",
              "      <td>0</td>\n",
              "      <td>0</td>\n",
              "      <td>0</td>\n",
              "      <td>0</td>\n",
              "      <td>0</td>\n",
              "      <td>0</td>\n",
              "      <td>0</td>\n",
              "      <td>0</td>\n",
              "      <td>0</td>\n",
              "      <td>0</td>\n",
              "      <td>0</td>\n",
              "      <td>0</td>\n",
              "      <td>0</td>\n",
              "      <td>0</td>\n",
              "      <td>0</td>\n",
              "      <td>0</td>\n",
              "      <td>0</td>\n",
              "      <td>0</td>\n",
              "      <td>0</td>\n",
              "      <td>0</td>\n",
              "      <td>0</td>\n",
              "      <td>0</td>\n",
              "      <td>0</td>\n",
              "      <td>0</td>\n",
              "      <td>0</td>\n",
              "      <td>0</td>\n",
              "      <td>0</td>\n",
              "      <td>0</td>\n",
              "      <td>0</td>\n",
              "      <td>0</td>\n",
              "      <td>0</td>\n",
              "      <td>0</td>\n",
              "      <td>0</td>\n",
              "      <td>0</td>\n",
              "      <td>0</td>\n",
              "      <td>0</td>\n",
              "      <td>0</td>\n",
              "      <td>0</td>\n",
              "      <td>0</td>\n",
              "      <td>0</td>\n",
              "      <td>0</td>\n",
              "      <td>0</td>\n",
              "      <td>0</td>\n",
              "      <td>0</td>\n",
              "      <td>0</td>\n",
              "      <td>0</td>\n",
              "      <td>0</td>\n",
              "      <td>0</td>\n",
              "      <td>0</td>\n",
              "      <td>0</td>\n",
              "      <td>0</td>\n",
              "      <td>0</td>\n",
              "      <td>0</td>\n",
              "      <td>0</td>\n",
              "      <td>0</td>\n",
              "      <td>0</td>\n",
              "      <td>0</td>\n",
              "      <td>0</td>\n",
              "      <td>0</td>\n",
              "      <td>0</td>\n",
              "      <td>0</td>\n",
              "      <td>0</td>\n",
              "      <td>0</td>\n",
              "      <td>0</td>\n",
              "      <td>0</td>\n",
              "      <td>0</td>\n",
              "      <td>0</td>\n",
              "      <td>0</td>\n",
              "      <td>0</td>\n",
              "      <td>0</td>\n",
              "      <td>0</td>\n",
              "      <td>0</td>\n",
              "    </tr>\n",
              "    <tr>\n",
              "      <th>1</th>\n",
              "      <td>2007</td>\n",
              "      <td>51.299278</td>\n",
              "      <td>36.840315</td>\n",
              "      <td>1</td>\n",
              "      <td>0</td>\n",
              "      <td>0</td>\n",
              "      <td>2</td>\n",
              "      <td>0</td>\n",
              "      <td>0</td>\n",
              "      <td>0</td>\n",
              "      <td>0</td>\n",
              "      <td>0</td>\n",
              "      <td>0</td>\n",
              "      <td>0</td>\n",
              "      <td>0</td>\n",
              "      <td>0</td>\n",
              "      <td>0</td>\n",
              "      <td>0</td>\n",
              "      <td>0</td>\n",
              "      <td>0</td>\n",
              "      <td>0</td>\n",
              "      <td>0</td>\n",
              "      <td>0</td>\n",
              "      <td>0</td>\n",
              "      <td>0</td>\n",
              "      <td>1</td>\n",
              "      <td>0</td>\n",
              "      <td>0</td>\n",
              "      <td>0</td>\n",
              "      <td>0</td>\n",
              "      <td>0</td>\n",
              "      <td>0</td>\n",
              "      <td>0</td>\n",
              "      <td>0</td>\n",
              "      <td>0</td>\n",
              "      <td>0</td>\n",
              "      <td>0</td>\n",
              "      <td>0</td>\n",
              "      <td>0</td>\n",
              "      <td>0</td>\n",
              "      <td>0</td>\n",
              "      <td>0</td>\n",
              "      <td>0</td>\n",
              "      <td>0</td>\n",
              "      <td>0</td>\n",
              "      <td>0</td>\n",
              "      <td>0</td>\n",
              "      <td>0</td>\n",
              "      <td>0</td>\n",
              "      <td>0</td>\n",
              "      <td>0</td>\n",
              "      <td>0</td>\n",
              "      <td>0</td>\n",
              "      <td>0</td>\n",
              "      <td>0</td>\n",
              "      <td>0</td>\n",
              "      <td>0</td>\n",
              "      <td>0</td>\n",
              "      <td>0</td>\n",
              "      <td>0</td>\n",
              "      <td>0</td>\n",
              "      <td>0</td>\n",
              "      <td>0</td>\n",
              "      <td>0</td>\n",
              "      <td>0</td>\n",
              "      <td>0</td>\n",
              "      <td>0</td>\n",
              "      <td>0</td>\n",
              "      <td>0</td>\n",
              "      <td>0</td>\n",
              "      <td>0</td>\n",
              "      <td>0</td>\n",
              "      <td>0</td>\n",
              "      <td>0</td>\n",
              "      <td>0</td>\n",
              "      <td>0</td>\n",
              "      <td>0</td>\n",
              "      <td>0</td>\n",
              "      <td>0</td>\n",
              "      <td>0</td>\n",
              "      <td>0</td>\n",
              "      <td>0</td>\n",
              "      <td>0</td>\n",
              "      <td>0</td>\n",
              "      <td>0</td>\n",
              "      <td>0</td>\n",
              "      <td>0</td>\n",
              "      <td>0</td>\n",
              "      <td>0</td>\n",
              "      <td>0</td>\n",
              "      <td>0</td>\n",
              "      <td>0</td>\n",
              "      <td>0</td>\n",
              "      <td>0</td>\n",
              "      <td>0</td>\n",
              "      <td>0</td>\n",
              "      <td>0</td>\n",
              "      <td>0</td>\n",
              "      <td>0</td>\n",
              "      <td>0</td>\n",
              "      <td>0</td>\n",
              "      <td>0</td>\n",
              "      <td>0</td>\n",
              "      <td>0</td>\n",
              "      <td>0</td>\n",
              "      <td>0</td>\n",
              "      <td>0</td>\n",
              "      <td>0</td>\n",
              "      <td>0</td>\n",
              "      <td>0</td>\n",
              "      <td>0</td>\n",
              "      <td>0</td>\n",
              "      <td>0</td>\n",
              "      <td>0</td>\n",
              "      <td>0</td>\n",
              "      <td>0</td>\n",
              "      <td>0</td>\n",
              "      <td>0</td>\n",
              "      <td>0</td>\n",
              "      <td>0</td>\n",
              "      <td>0</td>\n",
              "      <td>0</td>\n",
              "      <td>0</td>\n",
              "      <td>0</td>\n",
              "      <td>0</td>\n",
              "      <td>0</td>\n",
              "      <td>0</td>\n",
              "      <td>0</td>\n",
              "      <td>0</td>\n",
              "      <td>0</td>\n",
              "      <td>0</td>\n",
              "      <td>0</td>\n",
              "      <td>0</td>\n",
              "      <td>0</td>\n",
              "      <td>0</td>\n",
              "      <td>0</td>\n",
              "      <td>0</td>\n",
              "      <td>0</td>\n",
              "      <td>0</td>\n",
              "      <td>0</td>\n",
              "      <td>0</td>\n",
              "      <td>0</td>\n",
              "      <td>0</td>\n",
              "      <td>0</td>\n",
              "      <td>0</td>\n",
              "      <td>0</td>\n",
              "      <td>0</td>\n",
              "      <td>0</td>\n",
              "      <td>0</td>\n",
              "      <td>0</td>\n",
              "      <td>0</td>\n",
              "      <td>0</td>\n",
              "      <td>0</td>\n",
              "      <td>0</td>\n",
              "      <td>0</td>\n",
              "      <td>0</td>\n",
              "      <td>0</td>\n",
              "      <td>0</td>\n",
              "      <td>0</td>\n",
              "      <td>0</td>\n",
              "      <td>0</td>\n",
              "      <td>0</td>\n",
              "      <td>0</td>\n",
              "      <td>0</td>\n",
              "      <td>0</td>\n",
              "      <td>0</td>\n",
              "      <td>0</td>\n",
              "      <td>0</td>\n",
              "      <td>0</td>\n",
              "      <td>0</td>\n",
              "      <td>0</td>\n",
              "      <td>0</td>\n",
              "      <td>0</td>\n",
              "      <td>0</td>\n",
              "      <td>0</td>\n",
              "      <td>0</td>\n",
              "      <td>0</td>\n",
              "      <td>0</td>\n",
              "      <td>0</td>\n",
              "      <td>0</td>\n",
              "      <td>0</td>\n",
              "      <td>0</td>\n",
              "      <td>0</td>\n",
              "      <td>0</td>\n",
              "      <td>0</td>\n",
              "      <td>0</td>\n",
              "      <td>0</td>\n",
              "      <td>0</td>\n",
              "      <td>0</td>\n",
              "      <td>0</td>\n",
              "      <td>0</td>\n",
              "      <td>0</td>\n",
              "      <td>0</td>\n",
              "      <td>0</td>\n",
              "      <td>0</td>\n",
              "      <td>0</td>\n",
              "      <td>0</td>\n",
              "      <td>0</td>\n",
              "      <td>0</td>\n",
              "      <td>0</td>\n",
              "      <td>1</td>\n",
              "      <td>0</td>\n",
              "      <td>0</td>\n",
              "      <td>0</td>\n",
              "      <td>0</td>\n",
              "      <td>0</td>\n",
              "      <td>0</td>\n",
              "      <td>0</td>\n",
              "      <td>0</td>\n",
              "      <td>0</td>\n",
              "      <td>0</td>\n",
              "      <td>0</td>\n",
              "      <td>0</td>\n",
              "      <td>0</td>\n",
              "      <td>0</td>\n",
              "      <td>0</td>\n",
              "      <td>0</td>\n",
              "      <td>0</td>\n",
              "      <td>0</td>\n",
              "      <td>0</td>\n",
              "      <td>0</td>\n",
              "    </tr>\n",
              "    <tr>\n",
              "      <th>2</th>\n",
              "      <td>2012</td>\n",
              "      <td>84.343267</td>\n",
              "      <td>46.415888</td>\n",
              "      <td>2</td>\n",
              "      <td>0</td>\n",
              "      <td>0</td>\n",
              "      <td>2</td>\n",
              "      <td>0</td>\n",
              "      <td>0</td>\n",
              "      <td>0</td>\n",
              "      <td>0</td>\n",
              "      <td>0</td>\n",
              "      <td>0</td>\n",
              "      <td>0</td>\n",
              "      <td>0</td>\n",
              "      <td>0</td>\n",
              "      <td>0</td>\n",
              "      <td>1</td>\n",
              "      <td>0</td>\n",
              "      <td>0</td>\n",
              "      <td>0</td>\n",
              "      <td>0</td>\n",
              "      <td>0</td>\n",
              "      <td>0</td>\n",
              "      <td>0</td>\n",
              "      <td>0</td>\n",
              "      <td>0</td>\n",
              "      <td>0</td>\n",
              "      <td>0</td>\n",
              "      <td>0</td>\n",
              "      <td>0</td>\n",
              "      <td>0</td>\n",
              "      <td>0</td>\n",
              "      <td>0</td>\n",
              "      <td>0</td>\n",
              "      <td>0</td>\n",
              "      <td>0</td>\n",
              "      <td>0</td>\n",
              "      <td>0</td>\n",
              "      <td>0</td>\n",
              "      <td>0</td>\n",
              "      <td>0</td>\n",
              "      <td>0</td>\n",
              "      <td>0</td>\n",
              "      <td>0</td>\n",
              "      <td>0</td>\n",
              "      <td>0</td>\n",
              "      <td>0</td>\n",
              "      <td>0</td>\n",
              "      <td>0</td>\n",
              "      <td>0</td>\n",
              "      <td>0</td>\n",
              "      <td>0</td>\n",
              "      <td>0</td>\n",
              "      <td>0</td>\n",
              "      <td>0</td>\n",
              "      <td>0</td>\n",
              "      <td>0</td>\n",
              "      <td>0</td>\n",
              "      <td>0</td>\n",
              "      <td>0</td>\n",
              "      <td>0</td>\n",
              "      <td>0</td>\n",
              "      <td>0</td>\n",
              "      <td>0</td>\n",
              "      <td>0</td>\n",
              "      <td>0</td>\n",
              "      <td>0</td>\n",
              "      <td>0</td>\n",
              "      <td>0</td>\n",
              "      <td>0</td>\n",
              "      <td>0</td>\n",
              "      <td>0</td>\n",
              "      <td>0</td>\n",
              "      <td>0</td>\n",
              "      <td>0</td>\n",
              "      <td>0</td>\n",
              "      <td>0</td>\n",
              "      <td>0</td>\n",
              "      <td>0</td>\n",
              "      <td>0</td>\n",
              "      <td>0</td>\n",
              "      <td>0</td>\n",
              "      <td>0</td>\n",
              "      <td>0</td>\n",
              "      <td>0</td>\n",
              "      <td>0</td>\n",
              "      <td>0</td>\n",
              "      <td>0</td>\n",
              "      <td>0</td>\n",
              "      <td>0</td>\n",
              "      <td>0</td>\n",
              "      <td>0</td>\n",
              "      <td>0</td>\n",
              "      <td>0</td>\n",
              "      <td>0</td>\n",
              "      <td>0</td>\n",
              "      <td>0</td>\n",
              "      <td>0</td>\n",
              "      <td>0</td>\n",
              "      <td>0</td>\n",
              "      <td>0</td>\n",
              "      <td>0</td>\n",
              "      <td>0</td>\n",
              "      <td>0</td>\n",
              "      <td>0</td>\n",
              "      <td>0</td>\n",
              "      <td>0</td>\n",
              "      <td>0</td>\n",
              "      <td>0</td>\n",
              "      <td>0</td>\n",
              "      <td>0</td>\n",
              "      <td>0</td>\n",
              "      <td>0</td>\n",
              "      <td>0</td>\n",
              "      <td>0</td>\n",
              "      <td>0</td>\n",
              "      <td>0</td>\n",
              "      <td>0</td>\n",
              "      <td>0</td>\n",
              "      <td>0</td>\n",
              "      <td>0</td>\n",
              "      <td>0</td>\n",
              "      <td>0</td>\n",
              "      <td>0</td>\n",
              "      <td>0</td>\n",
              "      <td>0</td>\n",
              "      <td>0</td>\n",
              "      <td>0</td>\n",
              "      <td>0</td>\n",
              "      <td>0</td>\n",
              "      <td>0</td>\n",
              "      <td>0</td>\n",
              "      <td>0</td>\n",
              "      <td>0</td>\n",
              "      <td>0</td>\n",
              "      <td>0</td>\n",
              "      <td>0</td>\n",
              "      <td>0</td>\n",
              "      <td>0</td>\n",
              "      <td>0</td>\n",
              "      <td>0</td>\n",
              "      <td>0</td>\n",
              "      <td>0</td>\n",
              "      <td>0</td>\n",
              "      <td>0</td>\n",
              "      <td>0</td>\n",
              "      <td>0</td>\n",
              "      <td>0</td>\n",
              "      <td>0</td>\n",
              "      <td>0</td>\n",
              "      <td>0</td>\n",
              "      <td>0</td>\n",
              "      <td>0</td>\n",
              "      <td>0</td>\n",
              "      <td>0</td>\n",
              "      <td>0</td>\n",
              "      <td>0</td>\n",
              "      <td>0</td>\n",
              "      <td>0</td>\n",
              "      <td>0</td>\n",
              "      <td>0</td>\n",
              "      <td>0</td>\n",
              "      <td>0</td>\n",
              "      <td>0</td>\n",
              "      <td>0</td>\n",
              "      <td>0</td>\n",
              "      <td>0</td>\n",
              "      <td>0</td>\n",
              "      <td>0</td>\n",
              "      <td>0</td>\n",
              "      <td>0</td>\n",
              "      <td>0</td>\n",
              "      <td>0</td>\n",
              "      <td>0</td>\n",
              "      <td>0</td>\n",
              "      <td>0</td>\n",
              "      <td>0</td>\n",
              "      <td>0</td>\n",
              "      <td>0</td>\n",
              "      <td>0</td>\n",
              "      <td>0</td>\n",
              "      <td>0</td>\n",
              "      <td>0</td>\n",
              "      <td>0</td>\n",
              "      <td>0</td>\n",
              "      <td>0</td>\n",
              "      <td>0</td>\n",
              "      <td>0</td>\n",
              "      <td>0</td>\n",
              "      <td>0</td>\n",
              "      <td>0</td>\n",
              "      <td>0</td>\n",
              "      <td>0</td>\n",
              "      <td>0</td>\n",
              "      <td>0</td>\n",
              "      <td>0</td>\n",
              "      <td>1</td>\n",
              "      <td>0</td>\n",
              "      <td>0</td>\n",
              "      <td>0</td>\n",
              "      <td>0</td>\n",
              "      <td>0</td>\n",
              "      <td>0</td>\n",
              "      <td>0</td>\n",
              "      <td>0</td>\n",
              "      <td>0</td>\n",
              "      <td>0</td>\n",
              "      <td>0</td>\n",
              "      <td>0</td>\n",
              "      <td>0</td>\n",
              "      <td>0</td>\n",
              "      <td>0</td>\n",
              "      <td>0</td>\n",
              "      <td>0</td>\n",
              "      <td>0</td>\n",
              "      <td>0</td>\n",
              "      <td>0</td>\n",
              "      <td>0</td>\n",
              "      <td>0</td>\n",
              "      <td>0</td>\n",
              "    </tr>\n",
              "    <tr>\n",
              "      <th>3</th>\n",
              "      <td>2017</td>\n",
              "      <td>62.996052</td>\n",
              "      <td>35.830479</td>\n",
              "      <td>1</td>\n",
              "      <td>0</td>\n",
              "      <td>0</td>\n",
              "      <td>2</td>\n",
              "      <td>0</td>\n",
              "      <td>0</td>\n",
              "      <td>0</td>\n",
              "      <td>0</td>\n",
              "      <td>0</td>\n",
              "      <td>1</td>\n",
              "      <td>0</td>\n",
              "      <td>0</td>\n",
              "      <td>0</td>\n",
              "      <td>0</td>\n",
              "      <td>0</td>\n",
              "      <td>0</td>\n",
              "      <td>0</td>\n",
              "      <td>0</td>\n",
              "      <td>0</td>\n",
              "      <td>0</td>\n",
              "      <td>0</td>\n",
              "      <td>0</td>\n",
              "      <td>0</td>\n",
              "      <td>0</td>\n",
              "      <td>0</td>\n",
              "      <td>0</td>\n",
              "      <td>0</td>\n",
              "      <td>0</td>\n",
              "      <td>0</td>\n",
              "      <td>0</td>\n",
              "      <td>0</td>\n",
              "      <td>0</td>\n",
              "      <td>0</td>\n",
              "      <td>0</td>\n",
              "      <td>0</td>\n",
              "      <td>0</td>\n",
              "      <td>0</td>\n",
              "      <td>0</td>\n",
              "      <td>0</td>\n",
              "      <td>0</td>\n",
              "      <td>0</td>\n",
              "      <td>0</td>\n",
              "      <td>0</td>\n",
              "      <td>0</td>\n",
              "      <td>0</td>\n",
              "      <td>0</td>\n",
              "      <td>0</td>\n",
              "      <td>0</td>\n",
              "      <td>0</td>\n",
              "      <td>0</td>\n",
              "      <td>0</td>\n",
              "      <td>0</td>\n",
              "      <td>0</td>\n",
              "      <td>0</td>\n",
              "      <td>0</td>\n",
              "      <td>0</td>\n",
              "      <td>0</td>\n",
              "      <td>0</td>\n",
              "      <td>0</td>\n",
              "      <td>0</td>\n",
              "      <td>0</td>\n",
              "      <td>0</td>\n",
              "      <td>0</td>\n",
              "      <td>0</td>\n",
              "      <td>0</td>\n",
              "      <td>0</td>\n",
              "      <td>0</td>\n",
              "      <td>0</td>\n",
              "      <td>0</td>\n",
              "      <td>0</td>\n",
              "      <td>0</td>\n",
              "      <td>0</td>\n",
              "      <td>0</td>\n",
              "      <td>0</td>\n",
              "      <td>0</td>\n",
              "      <td>0</td>\n",
              "      <td>0</td>\n",
              "      <td>0</td>\n",
              "      <td>0</td>\n",
              "      <td>0</td>\n",
              "      <td>0</td>\n",
              "      <td>0</td>\n",
              "      <td>0</td>\n",
              "      <td>0</td>\n",
              "      <td>0</td>\n",
              "      <td>0</td>\n",
              "      <td>0</td>\n",
              "      <td>0</td>\n",
              "      <td>0</td>\n",
              "      <td>0</td>\n",
              "      <td>0</td>\n",
              "      <td>0</td>\n",
              "      <td>0</td>\n",
              "      <td>0</td>\n",
              "      <td>0</td>\n",
              "      <td>0</td>\n",
              "      <td>0</td>\n",
              "      <td>0</td>\n",
              "      <td>0</td>\n",
              "      <td>0</td>\n",
              "      <td>0</td>\n",
              "      <td>0</td>\n",
              "      <td>0</td>\n",
              "      <td>0</td>\n",
              "      <td>0</td>\n",
              "      <td>0</td>\n",
              "      <td>0</td>\n",
              "      <td>0</td>\n",
              "      <td>0</td>\n",
              "      <td>0</td>\n",
              "      <td>0</td>\n",
              "      <td>0</td>\n",
              "      <td>0</td>\n",
              "      <td>0</td>\n",
              "      <td>0</td>\n",
              "      <td>0</td>\n",
              "      <td>0</td>\n",
              "      <td>0</td>\n",
              "      <td>0</td>\n",
              "      <td>0</td>\n",
              "      <td>0</td>\n",
              "      <td>0</td>\n",
              "      <td>0</td>\n",
              "      <td>0</td>\n",
              "      <td>0</td>\n",
              "      <td>0</td>\n",
              "      <td>0</td>\n",
              "      <td>0</td>\n",
              "      <td>0</td>\n",
              "      <td>0</td>\n",
              "      <td>0</td>\n",
              "      <td>0</td>\n",
              "      <td>0</td>\n",
              "      <td>0</td>\n",
              "      <td>0</td>\n",
              "      <td>0</td>\n",
              "      <td>0</td>\n",
              "      <td>0</td>\n",
              "      <td>0</td>\n",
              "      <td>0</td>\n",
              "      <td>0</td>\n",
              "      <td>0</td>\n",
              "      <td>0</td>\n",
              "      <td>0</td>\n",
              "      <td>0</td>\n",
              "      <td>0</td>\n",
              "      <td>0</td>\n",
              "      <td>0</td>\n",
              "      <td>0</td>\n",
              "      <td>0</td>\n",
              "      <td>0</td>\n",
              "      <td>0</td>\n",
              "      <td>0</td>\n",
              "      <td>0</td>\n",
              "      <td>0</td>\n",
              "      <td>0</td>\n",
              "      <td>0</td>\n",
              "      <td>0</td>\n",
              "      <td>1</td>\n",
              "      <td>0</td>\n",
              "      <td>0</td>\n",
              "      <td>0</td>\n",
              "      <td>0</td>\n",
              "      <td>0</td>\n",
              "      <td>0</td>\n",
              "      <td>0</td>\n",
              "      <td>0</td>\n",
              "      <td>0</td>\n",
              "      <td>0</td>\n",
              "      <td>0</td>\n",
              "      <td>0</td>\n",
              "      <td>0</td>\n",
              "      <td>0</td>\n",
              "      <td>0</td>\n",
              "      <td>0</td>\n",
              "      <td>0</td>\n",
              "      <td>0</td>\n",
              "      <td>0</td>\n",
              "      <td>0</td>\n",
              "      <td>0</td>\n",
              "      <td>0</td>\n",
              "      <td>0</td>\n",
              "      <td>0</td>\n",
              "      <td>0</td>\n",
              "      <td>0</td>\n",
              "      <td>0</td>\n",
              "      <td>0</td>\n",
              "      <td>0</td>\n",
              "      <td>0</td>\n",
              "      <td>0</td>\n",
              "      <td>0</td>\n",
              "      <td>0</td>\n",
              "      <td>0</td>\n",
              "      <td>0</td>\n",
              "      <td>0</td>\n",
              "      <td>0</td>\n",
              "      <td>0</td>\n",
              "      <td>0</td>\n",
              "      <td>0</td>\n",
              "      <td>0</td>\n",
              "      <td>0</td>\n",
              "      <td>0</td>\n",
              "      <td>0</td>\n",
              "      <td>0</td>\n",
              "      <td>0</td>\n",
              "      <td>0</td>\n",
              "      <td>0</td>\n",
              "      <td>0</td>\n",
              "      <td>0</td>\n",
              "      <td>0</td>\n",
              "      <td>0</td>\n",
              "      <td>0</td>\n",
              "      <td>0</td>\n",
              "      <td>0</td>\n",
              "      <td>0</td>\n",
              "      <td>0</td>\n",
              "      <td>0</td>\n",
              "      <td>0</td>\n",
              "    </tr>\n",
              "    <tr>\n",
              "      <th>4</th>\n",
              "      <td>2014</td>\n",
              "      <td>76.630943</td>\n",
              "      <td>52.048279</td>\n",
              "      <td>2</td>\n",
              "      <td>0</td>\n",
              "      <td>0</td>\n",
              "      <td>1</td>\n",
              "      <td>0</td>\n",
              "      <td>0</td>\n",
              "      <td>0</td>\n",
              "      <td>0</td>\n",
              "      <td>0</td>\n",
              "      <td>0</td>\n",
              "      <td>0</td>\n",
              "      <td>0</td>\n",
              "      <td>0</td>\n",
              "      <td>1</td>\n",
              "      <td>0</td>\n",
              "      <td>0</td>\n",
              "      <td>0</td>\n",
              "      <td>0</td>\n",
              "      <td>0</td>\n",
              "      <td>0</td>\n",
              "      <td>0</td>\n",
              "      <td>0</td>\n",
              "      <td>0</td>\n",
              "      <td>0</td>\n",
              "      <td>0</td>\n",
              "      <td>0</td>\n",
              "      <td>0</td>\n",
              "      <td>0</td>\n",
              "      <td>0</td>\n",
              "      <td>0</td>\n",
              "      <td>0</td>\n",
              "      <td>0</td>\n",
              "      <td>0</td>\n",
              "      <td>0</td>\n",
              "      <td>0</td>\n",
              "      <td>0</td>\n",
              "      <td>0</td>\n",
              "      <td>0</td>\n",
              "      <td>0</td>\n",
              "      <td>0</td>\n",
              "      <td>0</td>\n",
              "      <td>0</td>\n",
              "      <td>0</td>\n",
              "      <td>0</td>\n",
              "      <td>0</td>\n",
              "      <td>0</td>\n",
              "      <td>0</td>\n",
              "      <td>0</td>\n",
              "      <td>0</td>\n",
              "      <td>0</td>\n",
              "      <td>1</td>\n",
              "      <td>0</td>\n",
              "      <td>0</td>\n",
              "      <td>0</td>\n",
              "      <td>0</td>\n",
              "      <td>0</td>\n",
              "      <td>0</td>\n",
              "      <td>0</td>\n",
              "      <td>0</td>\n",
              "      <td>0</td>\n",
              "      <td>0</td>\n",
              "      <td>0</td>\n",
              "      <td>0</td>\n",
              "      <td>0</td>\n",
              "      <td>0</td>\n",
              "      <td>0</td>\n",
              "      <td>0</td>\n",
              "      <td>0</td>\n",
              "      <td>0</td>\n",
              "      <td>0</td>\n",
              "      <td>0</td>\n",
              "      <td>0</td>\n",
              "      <td>0</td>\n",
              "      <td>0</td>\n",
              "      <td>0</td>\n",
              "      <td>0</td>\n",
              "      <td>0</td>\n",
              "      <td>0</td>\n",
              "      <td>0</td>\n",
              "      <td>0</td>\n",
              "      <td>0</td>\n",
              "      <td>0</td>\n",
              "      <td>0</td>\n",
              "      <td>0</td>\n",
              "      <td>0</td>\n",
              "      <td>0</td>\n",
              "      <td>0</td>\n",
              "      <td>0</td>\n",
              "      <td>0</td>\n",
              "      <td>0</td>\n",
              "      <td>0</td>\n",
              "      <td>0</td>\n",
              "      <td>0</td>\n",
              "      <td>0</td>\n",
              "      <td>0</td>\n",
              "      <td>0</td>\n",
              "      <td>0</td>\n",
              "      <td>0</td>\n",
              "      <td>0</td>\n",
              "      <td>0</td>\n",
              "      <td>0</td>\n",
              "      <td>0</td>\n",
              "      <td>0</td>\n",
              "      <td>0</td>\n",
              "      <td>0</td>\n",
              "      <td>0</td>\n",
              "      <td>0</td>\n",
              "      <td>0</td>\n",
              "      <td>0</td>\n",
              "      <td>0</td>\n",
              "      <td>0</td>\n",
              "      <td>0</td>\n",
              "      <td>0</td>\n",
              "      <td>0</td>\n",
              "      <td>0</td>\n",
              "      <td>0</td>\n",
              "      <td>0</td>\n",
              "      <td>0</td>\n",
              "      <td>0</td>\n",
              "      <td>0</td>\n",
              "      <td>0</td>\n",
              "      <td>0</td>\n",
              "      <td>0</td>\n",
              "      <td>0</td>\n",
              "      <td>0</td>\n",
              "      <td>0</td>\n",
              "      <td>0</td>\n",
              "      <td>0</td>\n",
              "      <td>0</td>\n",
              "      <td>0</td>\n",
              "      <td>0</td>\n",
              "      <td>0</td>\n",
              "      <td>0</td>\n",
              "      <td>0</td>\n",
              "      <td>0</td>\n",
              "      <td>0</td>\n",
              "      <td>0</td>\n",
              "      <td>0</td>\n",
              "      <td>0</td>\n",
              "      <td>0</td>\n",
              "      <td>0</td>\n",
              "      <td>0</td>\n",
              "      <td>0</td>\n",
              "      <td>0</td>\n",
              "      <td>0</td>\n",
              "      <td>0</td>\n",
              "      <td>0</td>\n",
              "      <td>0</td>\n",
              "      <td>0</td>\n",
              "      <td>0</td>\n",
              "      <td>0</td>\n",
              "      <td>0</td>\n",
              "      <td>0</td>\n",
              "      <td>0</td>\n",
              "      <td>0</td>\n",
              "      <td>0</td>\n",
              "      <td>0</td>\n",
              "      <td>0</td>\n",
              "      <td>0</td>\n",
              "      <td>0</td>\n",
              "      <td>0</td>\n",
              "      <td>0</td>\n",
              "      <td>0</td>\n",
              "      <td>0</td>\n",
              "      <td>0</td>\n",
              "      <td>0</td>\n",
              "      <td>0</td>\n",
              "      <td>0</td>\n",
              "      <td>0</td>\n",
              "      <td>0</td>\n",
              "      <td>0</td>\n",
              "      <td>0</td>\n",
              "      <td>0</td>\n",
              "      <td>0</td>\n",
              "      <td>0</td>\n",
              "      <td>0</td>\n",
              "      <td>0</td>\n",
              "      <td>0</td>\n",
              "      <td>0</td>\n",
              "      <td>0</td>\n",
              "      <td>0</td>\n",
              "      <td>0</td>\n",
              "      <td>0</td>\n",
              "      <td>0</td>\n",
              "      <td>0</td>\n",
              "      <td>0</td>\n",
              "      <td>0</td>\n",
              "      <td>0</td>\n",
              "      <td>0</td>\n",
              "      <td>0</td>\n",
              "      <td>0</td>\n",
              "      <td>0</td>\n",
              "      <td>0</td>\n",
              "      <td>0</td>\n",
              "      <td>0</td>\n",
              "      <td>0</td>\n",
              "      <td>0</td>\n",
              "      <td>0</td>\n",
              "      <td>0</td>\n",
              "      <td>0</td>\n",
              "      <td>0</td>\n",
              "      <td>0</td>\n",
              "      <td>0</td>\n",
              "      <td>0</td>\n",
              "      <td>0</td>\n",
              "      <td>0</td>\n",
              "      <td>0</td>\n",
              "      <td>0</td>\n",
              "      <td>0</td>\n",
              "      <td>0</td>\n",
              "      <td>0</td>\n",
              "      <td>0</td>\n",
              "      <td>0</td>\n",
              "      <td>0</td>\n",
              "      <td>0</td>\n",
              "      <td>0</td>\n",
              "      <td>0</td>\n",
              "      <td>0</td>\n",
              "    </tr>\n",
              "  </tbody>\n",
              "</table>\n",
              "</div>\n",
              "      <button class=\"colab-df-convert\" onclick=\"convertToInteractive('df-d4909102-f797-4bab-9f79-ffc447333490')\"\n",
              "              title=\"Convert this dataframe to an interactive table.\"\n",
              "              style=\"display:none;\">\n",
              "        \n",
              "  <svg xmlns=\"http://www.w3.org/2000/svg\" height=\"24px\"viewBox=\"0 0 24 24\"\n",
              "       width=\"24px\">\n",
              "    <path d=\"M0 0h24v24H0V0z\" fill=\"none\"/>\n",
              "    <path d=\"M18.56 5.44l.94 2.06.94-2.06 2.06-.94-2.06-.94-.94-2.06-.94 2.06-2.06.94zm-11 1L8.5 8.5l.94-2.06 2.06-.94-2.06-.94L8.5 2.5l-.94 2.06-2.06.94zm10 10l.94 2.06.94-2.06 2.06-.94-2.06-.94-.94-2.06-.94 2.06-2.06.94z\"/><path d=\"M17.41 7.96l-1.37-1.37c-.4-.4-.92-.59-1.43-.59-.52 0-1.04.2-1.43.59L10.3 9.45l-7.72 7.72c-.78.78-.78 2.05 0 2.83L4 21.41c.39.39.9.59 1.41.59.51 0 1.02-.2 1.41-.59l7.78-7.78 2.81-2.81c.8-.78.8-2.07 0-2.86zM5.41 20L4 18.59l7.72-7.72 1.47 1.35L5.41 20z\"/>\n",
              "  </svg>\n",
              "      </button>\n",
              "      \n",
              "  <style>\n",
              "    .colab-df-container {\n",
              "      display:flex;\n",
              "      flex-wrap:wrap;\n",
              "      gap: 12px;\n",
              "    }\n",
              "\n",
              "    .colab-df-convert {\n",
              "      background-color: #E8F0FE;\n",
              "      border: none;\n",
              "      border-radius: 50%;\n",
              "      cursor: pointer;\n",
              "      display: none;\n",
              "      fill: #1967D2;\n",
              "      height: 32px;\n",
              "      padding: 0 0 0 0;\n",
              "      width: 32px;\n",
              "    }\n",
              "\n",
              "    .colab-df-convert:hover {\n",
              "      background-color: #E2EBFA;\n",
              "      box-shadow: 0px 1px 2px rgba(60, 64, 67, 0.3), 0px 1px 3px 1px rgba(60, 64, 67, 0.15);\n",
              "      fill: #174EA6;\n",
              "    }\n",
              "\n",
              "    [theme=dark] .colab-df-convert {\n",
              "      background-color: #3B4455;\n",
              "      fill: #D2E3FC;\n",
              "    }\n",
              "\n",
              "    [theme=dark] .colab-df-convert:hover {\n",
              "      background-color: #434B5C;\n",
              "      box-shadow: 0px 1px 3px 1px rgba(0, 0, 0, 0.15);\n",
              "      filter: drop-shadow(0px 1px 2px rgba(0, 0, 0, 0.3));\n",
              "      fill: #FFFFFF;\n",
              "    }\n",
              "  </style>\n",
              "\n",
              "      <script>\n",
              "        const buttonEl =\n",
              "          document.querySelector('#df-d4909102-f797-4bab-9f79-ffc447333490 button.colab-df-convert');\n",
              "        buttonEl.style.display =\n",
              "          google.colab.kernel.accessAllowed ? 'block' : 'none';\n",
              "\n",
              "        async function convertToInteractive(key) {\n",
              "          const element = document.querySelector('#df-d4909102-f797-4bab-9f79-ffc447333490');\n",
              "          const dataTable =\n",
              "            await google.colab.kernel.invokeFunction('convertToInteractive',\n",
              "                                                     [key], {});\n",
              "          if (!dataTable) return;\n",
              "\n",
              "          const docLinkHtml = 'Like what you see? Visit the ' +\n",
              "            '<a target=\"_blank\" href=https://colab.research.google.com/notebooks/data_table.ipynb>data table notebook</a>'\n",
              "            + ' to learn more about interactive tables.';\n",
              "          element.innerHTML = '';\n",
              "          dataTable['output_type'] = 'display_data';\n",
              "          await google.colab.output.renderOutput(dataTable, element);\n",
              "          const docLink = document.createElement('div');\n",
              "          docLink.innerHTML = docLinkHtml;\n",
              "          element.appendChild(docLink);\n",
              "        }\n",
              "      </script>\n",
              "    </div>\n",
              "  </div>\n",
              "  "
            ]
          },
          "metadata": {},
          "execution_count": 48
        }
      ]
    },
    {
      "cell_type": "code",
      "source": [
        "#----------------------------------Block 38--------------------------------------\n",
        "\n",
        "len(cardekho_cardetails_data.columns.tolist())   #no. of columns"
      ],
      "metadata": {
        "colab": {
          "base_uri": "https://localhost:8080/"
        },
        "outputId": "fa890c51-d622-4078-9e8b-e3a9935c7920",
        "id": "_HRdg0VoHKIc"
      },
      "execution_count": null,
      "outputs": [
        {
          "output_type": "execute_result",
          "data": {
            "text/plain": [
              "221"
            ]
          },
          "metadata": {},
          "execution_count": 49
        }
      ]
    },
    {
      "cell_type": "code",
      "source": [
        "#----------------------------------Block 39--------------------------------------\n",
        "\n",
        "#divinding features into independent and dependent features\n",
        "x = cardekho_cardetails_data[list(set(cardekho_cardetails_data.columns.tolist()) - set('selling_price'))]   #independent features\n",
        "y = cardekho_cardetails_data['selling_price']   #dependent features"
      ],
      "metadata": {
        "id": "YUtaMK4xHKIc"
      },
      "execution_count": null,
      "outputs": []
    },
    {
      "cell_type": "markdown",
      "source": [
        "* *Train - Test Split*"
      ],
      "metadata": {
        "id": "I9bMmY78HKIc"
      }
    },
    {
      "cell_type": "code",
      "source": [
        "#----------------------------------Block 40--------------------------------------\n",
        "\n",
        "#splitting the data into train and test data\n",
        "x_train, x_test, y_train, y_test=train_test_split(x,y,test_size=0.2,random_state=0)"
      ],
      "metadata": {
        "id": "NjHNKCwKHKIc"
      },
      "execution_count": null,
      "outputs": []
    },
    {
      "cell_type": "markdown",
      "source": [
        "* *Scaling*"
      ],
      "metadata": {
        "id": "33gO0v21HKIc"
      }
    },
    {
      "cell_type": "code",
      "source": [
        "#----------------------------------Block 41--------------------------------------\n",
        "\n",
        "#scaling of x values and y values\n",
        "scalar=MinMaxScaler()\n",
        "x_train=scalar.fit_transform(x_train)\n",
        "x_test=scalar.transform(x_test)"
      ],
      "metadata": {
        "id": "JqU8x962HKId"
      },
      "execution_count": null,
      "outputs": []
    },
    {
      "cell_type": "markdown",
      "source": [
        "* *Model Building*"
      ],
      "metadata": {
        "id": "q7LO6gN-HKId"
      }
    },
    {
      "cell_type": "code",
      "source": [
        "#----------------------------------Block 42--------------------------------------\n",
        "\n",
        "#Linear Regression model\n",
        "regressor=LinearRegression()\n",
        "regressor.fit(x_train,y_train)"
      ],
      "metadata": {
        "colab": {
          "base_uri": "https://localhost:8080/"
        },
        "outputId": "08ccc9e3-7ed5-4a40-c79f-0211df5589fe",
        "id": "OEPCq9vqHKId"
      },
      "execution_count": null,
      "outputs": [
        {
          "output_type": "execute_result",
          "data": {
            "text/plain": [
              "LinearRegression()"
            ]
          },
          "metadata": {},
          "execution_count": 53
        }
      ]
    },
    {
      "cell_type": "code",
      "source": [
        "#----------------------------------Block 43--------------------------------------\n",
        "\n",
        "#checking for intercept term\n",
        "regressor.intercept_"
      ],
      "metadata": {
        "colab": {
          "base_uri": "https://localhost:8080/"
        },
        "outputId": "d11489f4-4e8e-4a4d-ddfe-31462e310765",
        "id": "8bRYgvgaHKId"
      },
      "execution_count": null,
      "outputs": [
        {
          "output_type": "execute_result",
          "data": {
            "text/plain": [
              "27.157161763592498"
            ]
          },
          "metadata": {},
          "execution_count": 54
        }
      ]
    },
    {
      "cell_type": "code",
      "source": [
        "#----------------------------------Block 44--------------------------------------\n",
        "\n",
        "#checking for parameters of the model\n",
        "regressor.coef_"
      ],
      "metadata": {
        "colab": {
          "base_uri": "https://localhost:8080/"
        },
        "outputId": "c591b220-ec89-4049-fe8f-35546921c7f8",
        "id": "hzFD62VlHKIe"
      },
      "execution_count": null,
      "outputs": [
        {
          "output_type": "execute_result",
          "data": {
            "text/plain": [
              "array([-5.25430272e-05, -1.85137898e-03, -1.47829190e-01, -1.47829190e-01,\n",
              "        2.50977124e-01,  1.92664118e-02, -1.23874645e-01, -5.03476815e-02,\n",
              "       -2.31344542e-01, -3.25579829e-02, -7.68704646e-01, -2.63962722e-01,\n",
              "        1.92664118e-02,  2.54692017e-02, -5.03476815e-02, -5.03476815e-02,\n",
              "       -5.03476815e-02, -9.67824399e-02, -1.09481501e-01, -1.85137898e-03,\n",
              "       -9.61999061e-02, -5.03476815e-02, -1.09205590e-01,  2.18358945e-01,\n",
              "       -1.09481501e-01, -4.19720404e-02,  2.34495183e-01, -5.03476815e-02,\n",
              "       -9.61999061e-02,  2.18358945e-01, -1.09205590e-01,  1.10889047e-01,\n",
              "       -5.03476815e-02,  8.32143084e-02,  1.92664118e-02, -5.03476815e-02,\n",
              "       -5.03476815e-02, -1.47829190e-01,  2.34495183e-01,  2.34495183e-01,\n",
              "        2.34495183e-01,  2.89864427e-02, -5.25430271e-05, -9.61999061e-02,\n",
              "       -1.07588410e-02, -1.47829190e-01, -9.61999061e-02, -1.47829190e-01,\n",
              "       -1.47829190e-01,  4.26325641e-14, -5.03476815e-02, -1.29330546e-02,\n",
              "        9.62199924e-02, -9.61999061e-02, -1.47829190e-01, -1.09205590e-01,\n",
              "        1.34843592e-01, -9.61999061e-02,  3.73620839e-02, -5.03476815e-02,\n",
              "        2.34495183e-01, -1.09205590e-01, -4.40565287e-02, -1.47829190e-01,\n",
              "        2.18358945e-01, -5.03476815e-02,  3.73620839e-02,  2.18358945e-01,\n",
              "       -5.25430272e-05,  2.34495183e-01, -3.19744231e-14,  3.10709310e-02,\n",
              "       -1.85137898e-03, -1.47829190e-01, -5.03476815e-02, -5.03476815e-02,\n",
              "       -1.85137898e-03,  1.80090934e+02, -1.07588410e-02, -1.11342187e-02,\n",
              "       -1.09481501e-01, -7.68704646e-01, -5.03476815e-02,  2.34495183e-01,\n",
              "       -5.03476815e-02, -1.09481501e-01,  2.34495183e-01, -1.07588410e-02,\n",
              "        2.34495183e-01, -1.47829190e-01, -1.47829190e-01, -5.03476815e-02,\n",
              "        2.50977124e-01,  1.10889047e-01,  2.34495183e-01,  1.77635684e-15,\n",
              "       -1.47829190e-01, -1.85137898e-03, -5.03476815e-02, -5.03476815e-02,\n",
              "       -1.47829190e-01, -7.68704646e-01,  2.18358945e-01,  2.93354421e-02,\n",
              "       -1.47829190e-01,  3.69711525e-02,  8.37968422e-02, -1.09205590e-01,\n",
              "       -1.09481501e-01,  9.64959032e-02, -1.07588410e-02,  2.34495183e-01,\n",
              "       -1.85137898e-03, -9.59232693e-14,  3.73620839e-02,  2.89864427e-02,\n",
              "        7.10542736e-15, -5.03476815e-02, -1.07588410e-02, -1.47829190e-01,\n",
              "       -5.25430271e-05, -5.03476815e-02, -1.07588410e-02,  1.95723852e-02,\n",
              "       -1.07588410e-02, -2.22675668e-03, -7.68704646e-01, -1.47829190e-01,\n",
              "       -5.03476815e-02,  2.89864427e-02, -2.57955940e-01,  2.50977124e-01,\n",
              "       -5.03476815e-02, -1.47829190e-01,  3.81877170e-03,  4.16415387e-02,\n",
              "       -1.47829190e-01, -1.09205590e-01,  1.92664118e-02, -2.47480781e-01,\n",
              "       -4.23210398e-02, -2.11247636e-02, -1.07588410e-02, -5.03476815e-02,\n",
              "       -1.47829190e-01,  1.10889047e-01, -5.03476815e-02, -5.25430271e-05,\n",
              "        2.34495183e-01,  2.34495183e-01, -1.47829190e-01, -5.03476815e-02,\n",
              "       -5.03476815e-02, -5.03476815e-02, -1.85137898e-03, -1.09205590e-01,\n",
              "        2.66453526e-14,  2.34495183e-01,  2.18358945e-01, -5.03476815e-02,\n",
              "        1.34843592e-01, -5.03476815e-02, -5.03476815e-02, -5.03476815e-02,\n",
              "       -4.99567501e-02, -5.03476815e-02, -3.22520095e-02, -1.09205590e-01,\n",
              "       -1.47829190e-01, -7.68704646e-01, -9.67824399e-02, -5.03476815e-02,\n",
              "       -1.47829190e-01, -5.25430272e-05,  2.89864427e-02, -1.09205590e-01,\n",
              "       -5.03476815e-02, -5.03476815e-02, -1.47829190e-01,  2.34495183e-01,\n",
              "        1.71403001e-02, -5.03476815e-02, -5.03476815e-02, -5.03476815e-02,\n",
              "        2.34495183e-01,  2.84752962e-03, -1.09481501e-01, -5.03476815e-02,\n",
              "       -5.03476815e-02, -5.25430271e-05, -1.09205590e-01, -1.68043693e-02,\n",
              "       -1.85137898e-03,  2.18358945e-01, -1.00170695e-01,  1.12926971e-04,\n",
              "       -1.47829190e-01,  2.89864427e-02,  4.16415387e-02, -5.46271364e-02,\n",
              "       -7.68704646e-01, -5.03476815e-02,  4.16415387e-02, -5.03476815e-02,\n",
              "        2.34495183e-01, -1.85137898e-03, -1.47829190e-01,  3.69711525e-02,\n",
              "        0.00000000e+00,  1.92664118e-02, -5.03476815e-02,  7.55719048e-01,\n",
              "        8.71850971e-02, -5.03476815e-02, -5.03476815e-02,  3.73620839e-02,\n",
              "       -1.58331273e-02, -1.09205590e-01, -5.03476815e-02, -5.03476815e-02,\n",
              "        2.18358945e-01])"
            ]
          },
          "metadata": {},
          "execution_count": 55
        }
      ]
    },
    {
      "cell_type": "code",
      "source": [
        "#----------------------------------Block 45--------------------------------------\n",
        "\n",
        "#predicting dependent variable values across x_train\n",
        "y_train_pred=regressor.predict(x_train)\n",
        "y_train_pred"
      ],
      "metadata": {
        "colab": {
          "base_uri": "https://localhost:8080/"
        },
        "outputId": "147be83c-6dab-471d-a197-edb044b90407",
        "id": "JH2uJlc6HKIe"
      },
      "execution_count": null,
      "outputs": [
        {
          "output_type": "execute_result",
          "data": {
            "text/plain": [
              "array([49.32424149, 80.6714323 , 66.94329501, ..., 64.23158289,\n",
              "       87.28518735, 73.06143574])"
            ]
          },
          "metadata": {},
          "execution_count": 56
        }
      ]
    },
    {
      "cell_type": "code",
      "source": [
        "#----------------------------------Block 46--------------------------------------\n",
        "\n",
        "#predicting dependent variable values across x_test\n",
        "y_pred=regressor.predict(x_test)\n",
        "y_pred"
      ],
      "metadata": {
        "colab": {
          "base_uri": "https://localhost:8080/"
        },
        "outputId": "407eb4d5-9998-4c41-dcb1-cc1a34da64f8",
        "id": "lOg3dozhHKIe"
      },
      "execution_count": null,
      "outputs": [
        {
          "output_type": "execute_result",
          "data": {
            "text/plain": [
              "array([ 53.13292846,  51.04468722,  89.83508896,  53.13292846,\n",
              "        80.15594581,  70.47298732,  84.34326653,  38.02952461,\n",
              "        87.93659344,  50.        ,  87.28518735,  78.02453754,\n",
              "        63.82504299,  78.29735282,  56.46216173,  76.63094324,\n",
              "        74.59035926,  47.91419857,  70.13579083,  43.0886938 ,\n",
              "        64.6330407 ,  43.0886938 ,  86.62391053,  79.3700526 ,\n",
              "        66.94329501,  62.99605249,  53.13292846,  58.57756288,\n",
              "        78.83735163,  58.48035476,  85.49879733,  68.39903787,\n",
              "        86.62391053, 133.88659002,  75.76979046,  81.93212706,\n",
              "       104.76895532,  57.78996565,  43.0886938 ,  66.94329501,\n",
              "        78.29735282,  84.34326653,  79.10459893,  73.68062997,\n",
              "        98.30475725,  66.94329501,  60.36810737,  50.65797019,\n",
              "        53.13292846,  50.        ,  92.83177667,  78.02453754,\n",
              "        89.2530776 , 100.9901634 ,  88.79040017, 106.23633042,\n",
              "        55.9344471 ,  55.9344471 ,  48.62930036,  78.02453754,\n",
              "        75.76979046,  66.94329501,  66.94329501,  38.02952461,\n",
              "        84.34326653,  53.13292846,  65.02957234, 104.76895532,\n",
              "        47.91419857,  61.71005793,  60.36810737,  72.43156443,\n",
              "        66.94329501,  46.41588834,  83.39550915,  84.34326653,\n",
              "        88.79040017,  80.6714323 ,  68.39903787,  76.63094324,\n",
              "        61.26916796,  82.91344342,  66.94329501,  86.62391053,\n",
              "        78.02453754,  84.34326653,  65.80844365,  28.02039331,\n",
              "        58.48035476,  81.93212706,  79.3700526 , 101.63963568,\n",
              "        50.65797019,  50.65797019,  78.02453754,  51.92494102,\n",
              "        70.47298732,  56.46216173,  76.63094324,  79.3700526 ,\n",
              "        35.0339806 , 168.68653306,  43.0886938 , 114.47142426,\n",
              "        83.39550915,  81.93212706, 107.7217345 ,  46.41588834,\n",
              "        83.63446607,  86.62391053,  70.47298732,  57.98889998,\n",
              "        57.98889998,  66.19105948,  78.56822608,  43.0886938 ,\n",
              "        80.6714323 ,  94.72682372,  72.11247852,  79.3700526 ,\n",
              "        80.6714323 ,  73.68062997,  88.79040017,  81.93212706,\n",
              "        68.39903787,  41.0156593 ,  54.84806552,  58.48035476,\n",
              "        66.94329501,  41.212853  ,  85.27018983,  66.94329501,\n",
              "        82.67029409,  66.56930232,  92.83177667,  68.75344335,\n",
              "        89.42014037,  67.75168952,  80.41451517,  50.        ,\n",
              "        70.47298732,  70.47298732,  70.47298732,  80.6714323 ,\n",
              "       106.99874806,  81.93212706,  73.68062997,  83.87206527,\n",
              "        50.        , 100.82648376,  60.82201996,  75.18472981,\n",
              "        92.83177667,  81.93212706,  50.        ,  86.62391053,\n",
              "        72.11247852,  88.74809888,  72.11247852,  84.34326653,\n",
              "        43.0886938 ,  70.47298732,  62.05821795, 114.48452278,\n",
              "        81.93212706,  54.28835233, 100.        , 103.22801155,\n",
              "        62.14465012,  40.20725759,  60.45943596,  56.46216173,\n",
              "        62.99605249,  71.13786609,  70.47298732, 114.47142426,\n",
              "        45.62902635,  87.93659344,  75.47842314,  66.94329501,\n",
              "        42.17163327,  62.99605249,  76.63094324,  85.22432098,\n",
              "        98.30475725,  70.40580617,  79.3700526 ,  85.72618882,\n",
              "        57.48897079,  90.84566372,  86.84545603,  62.99605249,\n",
              "        44.81404747, 120.16181873,  60.36810737,  75.76979046,\n",
              "        66.94329501,  86.62391053,  61.26916796,  66.94329501,\n",
              "        74.28952802,  84.34326653,  65.02957234,  49.32424149,\n",
              "        47.32623491,  55.39658257,  71.13786609,  60.82201996,\n",
              "        73.68062997,  73.68062997,  74.88872387,  76.63094324,\n",
              "        92.83177667,  68.39903787,  53.13292846,  79.89564519,\n",
              "        76.63094324,  75.47842314,  74.59035926,  90.85602964,\n",
              "        84.34326653,  60.36810737,  45.62902635,  47.1769398 ,\n",
              "       111.86889421,  87.28518735,  80.6714323 ,  66.94329501,\n",
              "        90.45041697,  88.79040017,  59.43921953,  60.36810737,\n",
              "        86.1773876 ,  44.81404747,  51.2992784 ,  55.9344471 ,\n",
              "        54.28835233,  34.19951893,  69.79532047,  76.63094324,\n",
              "        79.3700526 ,  83.87206527,  84.80926088,  90.85602964,\n",
              "        51.92494102,  75.18472981,  70.47298732,  58.48035476,\n",
              "        61.26916796,  66.94329501,  79.3700526 ,  42.17163327,\n",
              "        72.43156443,  60.82201996,  73.68062997,  66.94329501,\n",
              "        84.34326653,  91.25805271,  66.94329501,  66.94329501,\n",
              "        46.41588834, 137.4186847 , 135.72088083,  88.79040017,\n",
              "        66.19105948, 115.72945273,  56.67051108,  90.85602964,\n",
              "        70.47298732,  60.36810737,  66.94329501,  80.41451517,\n",
              "       107.7217345 ,  76.63094324,  79.10459893,  50.65797019,\n",
              "        66.94329501,  62.99605249,  58.48035476,  87.72053215,\n",
              "        70.47298732,  50.65797019,  92.63797282,  46.41588834,\n",
              "        88.79040017,  47.1769398 ,  72.11247852,  62.99605249,\n",
              "        65.80844365,  39.14867641,  59.43921953,  62.14465012,\n",
              "        48.05895534,  79.89564519,  62.99605249,  92.44335465,\n",
              "        61.26916796,  96.19001716, 101.63963568,  79.3700526 ,\n",
              "        82.425706  ,  80.92672335,  74.94811226,  92.83177667,\n",
              "        66.86883077,  76.63094324,  81.93212706,  57.98889998,\n",
              "        75.24365204,  62.57324746,  50.65797019,  73.68062997,\n",
              "        75.76979046,  45.62902635, 111.19900453,  63.82504299,\n",
              "       106.11805999,  43.0886938 ,  74.88872387,  76.63094324,\n",
              "        53.13292846,  47.91419857, 121.64403991,  80.41451517,\n",
              "        79.89564519,  62.99605249,  65.02957234,  73.68062997,\n",
              "        88.79040017,  81.18041379,  52.53587872,  71.46569499,\n",
              "        72.11247852,  87.72053215,  90.85602964,  84.34326653,\n",
              "        41.212853  ,  43.96829672,  58.48035476,  59.43921953,\n",
              "        61.26916796,  76.63094324,  70.47298732,  79.10459893,\n",
              "        65.02957234,  98.30475725, 119.34831919, 106.26585692,\n",
              "        93.78887277,  81.93212706,  84.34326653,  73.68062997,\n",
              "        88.79040017,  73.68062997,  68.75344335,  66.94329501,\n",
              "        94.72682372, 103.81896513,  43.0886938 ,  60.82201996,\n",
              "        50.        ,  66.94329501,  87.06587691,  63.41317416,\n",
              "        79.3700526 ,  76.63094324,  46.41588834,  89.62809493,\n",
              "       113.1851196 ,  49.32424149,  66.94329501,  75.18472981,\n",
              "        70.47298732,  51.92494102,  73.06143574,  97.53994419,\n",
              "        56.46216173,  73.68062997,  71.13786609,  98.30475725,\n",
              "        54.28835233,  84.34326653,  60.36810737,  73.68062997,\n",
              "        53.71685355,  75.76979046,  58.48035476,  47.91419857,\n",
              "        81.93212706,  76.63094324,  92.83177667,  90.85602964,\n",
              "        84.34326653,  50.        ,  39.14867641,  81.6830917 ,\n",
              "        68.39903787,  34.76026645,  53.13292846,  76.63094324,\n",
              "        50.65797019,  46.41588834,  68.75344335,  97.43475802,\n",
              "        60.36810737,  90.85602964, 111.86889421,  84.34326653,\n",
              "        62.99605249,  71.13786609,  89.62809493,  95.09685413,\n",
              "        79.10459893,  42.17163327,  81.18041379,  82.67029409,\n",
              "        81.93212706,  72.11247852,  85.04034993,  88.79040017,\n",
              "        96.19001716,  60.82201996,  50.65797019,  46.41588834,\n",
              "        82.22898519,  44.81404747,  86.62391053,  55.39658257,\n",
              "       107.7217345 ,  71.13786609,  69.79532047,  57.48897079,\n",
              "        76.63094324,  88.74809888,  63.07633447, 155.93894832,\n",
              "        51.67649252,  99.66554934,  39.14867641, 108.00822983,\n",
              "        79.89564519,  62.99605249, 142.60431471,  86.62391053,\n",
              "        85.27018983,  65.02957234,  79.3700526 ,  73.68062997,\n",
              "        97.61000077, 161.3428646 , 100.        ,  46.41588834,\n",
              "        47.91419857,  89.83508896,  68.39903787,  86.62391053,\n",
              "        72.43156443,  65.80844365,  47.91419857,  80.92672335,\n",
              "        90.85602964, 125.99210499,  57.48897079,  66.56930232,\n",
              "        60.36810737,  65.4213262 ,  66.94329501,  71.66095742,\n",
              "        68.04092116,  70.47298732,  81.93212706,  65.4213262 ,\n",
              "        66.94329501, 106.26585692,  83.63446607,  58.48035476,\n",
              "        86.1773876 ,  71.79054352,  61.26916796,  57.48897079,\n",
              "        76.63094324, 116.96070953,  46.41588834,  81.93212706,\n",
              "        41.212853  ,  86.62391053,  42.17163327,  76.05904922,\n",
              "        70.47298732,  66.94329501,  61.26916796,  61.97154435,\n",
              "        92.83177667,  69.1042323 ,  73.68062997,  60.82201996,\n",
              "        60.36810737,  66.94329501,  55.9344471 ,  64.6330407 ,\n",
              "        68.39903787,  32.7106631 ,  96.54893846,  53.13292846,\n",
              "        50.65797019,  91.8545275 ,  58.48035476,  66.94329501,\n",
              "        53.71685355,  58.48035476,  73.06143574,  96.36977611,\n",
              "        70.47298732,  74.28952802,  62.14465012,  60.36810737,\n",
              "        62.99605249, 137.50688671,  88.79040017,  94.16629685,\n",
              "        62.99605249, 103.39298104,  73.68062997,  71.46569499,\n",
              "        44.81404747,  92.83177667,  62.99605249,  54.84806552,\n",
              "        98.30475725,  49.46087443,  60.36810737,  39.14867641,\n",
              "        67.67899452,  92.83177667,  75.71174278,  98.30475725,\n",
              "        90.85602964,  66.94329501,  43.96829672,  92.90907211,\n",
              "        78.02453754,  50.        ,  35.56893304,  73.68062997,\n",
              "        66.94329501,  66.94329501,  76.63094324,  92.83177667,\n",
              "        81.4325285 ,  43.96829672,  73.68062997,  70.47298732,\n",
              "        79.3700526 ,  66.94329501,  62.99605249,  84.34326653,\n",
              "        51.92494102,  58.48035476,  73.68062997,  58.48035476,\n",
              "        73.68062997,  54.62555571,  70.47298732,  81.93212706,\n",
              "        76.63094324,  75.18472981,  70.47298732, 145.02179617,\n",
              "        67.67899452,  96.54893846,  55.39658257,  49.32424149,\n",
              "        62.99605249,  81.6830917 ,  97.43475802,  79.3700526 ,\n",
              "       104.76895532,  65.4213262 ,  66.94329501,  64.6330407 ,\n",
              "        58.28476683,  81.93212706,  51.92494102,  64.6330407 ,\n",
              "        62.57324746,  83.15517494,  79.3700526 ,  54.28835233,\n",
              "        89.83508896,  79.3700526 ,  70.47298732,  61.26916796,\n",
              "        73.68062997,  67.67899452,  61.26916796,  60.82201996,\n",
              "        42.17163327,  54.28835233, 100.        ,  66.94329501,\n",
              "        74.28952802,  84.34326653, 109.13928831,  68.39903787,\n",
              "        84.34326653,  79.89564519,  79.3700526 ,  66.56930232,\n",
              "        55.9344471 ,  47.91419857,  60.82201996,  66.94329501,\n",
              "        60.36810737,  92.83177667,  77.74980097,  61.26916796,\n",
              "        74.88872387,  77.74980097,  79.3700526 ,  61.26916796,\n",
              "       132.00061218,  70.47298732,  79.3700526 , 112.53085573,\n",
              "        72.43156443,  78.29735282,  64.23158289,  60.82201996,\n",
              "        90.04113346,  67.31315497, 104.76895532,  66.94329501,\n",
              "        76.63094324,  81.4325285 , 107.7217345 ,  70.47298732,\n",
              "        53.13292846,  41.212853  ,  83.63446607,  45.30654896,\n",
              "        41.212853  ,  70.47298732,  62.99605249,  43.0886938 ,\n",
              "        52.53587872,  68.04092116,  36.84031499,  56.98019215,\n",
              "        86.62391053, 106.26585692,  55.39658257,  56.46216173,\n",
              "        43.0886938 ,  92.05164083,  65.02957234,  58.48035476,\n",
              "        84.34326653,  49.32424149,  59.43921953,  50.        ,\n",
              "        73.68062997,  93.94016866, 111.19900453,  70.47298732,\n",
              "        68.75344335,  92.05164083,  74.28952802,  41.212853  ,\n",
              "        79.3700526 ,  54.28835233,  90.04113346,  98.30475725,\n",
              "        76.63094324,  62.99605249,  73.06143574,  46.10436292,\n",
              "        70.80698751, 101.63963568,  53.13292846,  46.41588834,\n",
              "        73.68062997,  65.4213262 ,  58.38272461,  55.39658257,\n",
              "        53.71685355,  75.18472981,  73.68062997,  62.99605249,\n",
              "        46.41588834,  55.39658257,  64.55314811,  53.13292846,\n",
              "        96.36977611,  62.14465012,  88.79040017,  62.99605249,\n",
              "        53.13292846,  61.26916796,  86.62391053,  70.47298732,\n",
              "       116.96070953,  51.92494102,  72.43156443,  68.75344335,\n",
              "        51.92494102,  81.93212706,  93.97796375,  56.46216173,\n",
              "        82.91344342,  77.19437036,  72.74786349,  42.85256882,\n",
              "        75.47842314,  79.3700526 ,  73.06143574,  84.34326653])"
            ]
          },
          "metadata": {},
          "execution_count": 57
        }
      ]
    },
    {
      "cell_type": "code",
      "source": [
        "#----------------------------------Block 47--------------------------------------\n",
        "\n",
        "fig,axes = plt.subplots(2,1, figsize=(15,14))\n",
        "\n",
        "#line plot for actual and predicted values\n",
        "axes[0].plot((y_pred)**3,color='y')\n",
        "axes[0].plot(np.array((y_test)**3),color='seagreen')\n",
        "axes[0].legend([\"Predicted\",\"Actual\"])\n",
        "\n",
        "#plotting the graph to check hetroscadesticity\n",
        "axes[1].scatter((y_pred**3),((y_test**3)- (y_pred**3)),c='cadetblue',alpha=0.6)\n",
        "axes[1].set_xlabel('Predicted selling price')\n",
        "axes[1].set_ylabel('Residuals')\n",
        "axes[1].set_title('Hetroscadesticity depicting Plot')\n",
        "plt.show()"
      ],
      "metadata": {
        "colab": {
          "base_uri": "https://localhost:8080/",
          "height": 834
        },
        "outputId": "f62dc5bd-45e0-4e49-efe7-bec5df5318fc",
        "id": "1Tq28gqkHKIf"
      },
      "execution_count": null,
      "outputs": [
        {
          "output_type": "display_data",
          "data": {
            "text/plain": [
              "<Figure size 1080x1008 with 2 Axes>"
            ],
            "image/png": "[encoded data removed]"
          },
          "metadata": {
            "needs_background": "light"
          }
        }
      ]
    },
    {
      "cell_type": "markdown",
      "source": [
        "*Okay, so there is homoscedasticity and residual for almost every data point except few is 0*"
      ],
      "metadata": {
        "id": "FqSROhtmM1fr"
      }
    },
    {
      "cell_type": "markdown",
      "source": [
        "* *MSE, RMSE, MAE, r2-score and ajusted r2-score*"
      ],
      "metadata": {
        "id": "jl8RSWrGHKIf"
      }
    },
    {
      "cell_type": "code",
      "source": [
        "#----------------------------------Block 48--------------------------------------\n",
        "\n",
        "#to create a dataframe showing MSE, RMSE, r2-score and adjusted r2-score for train and test data\n",
        "\n",
        "s1 = pd.DataFrame(['Train data','Test data']) \n",
        "s1.rename(columns={0:'Data'},inplace=True)\n",
        "\n",
        "#creating a dataframe to store MSE values for train and test data\n",
        "s2 = pd.DataFrame({'MSE':(mean_squared_error((y_train)**3,(y_train_pred)**3),mean_squared_error((y_test)**3,(y_pred)**3))})\n",
        "\n",
        "#creating a dataframe to store RMSE values for train and test data\n",
        "s3 = pd.DataFrame({'RMSE':(np.sqrt(mean_squared_error((y_train)**3,(y_train_pred)**3)),np.sqrt(mean_squared_error((y_test)**3,(y_pred)**3)))})\n",
        "\n",
        "#creating a dataframe to store MAE values for train and test data\n",
        "s4 = pd.DataFrame({'MAE':(mean_absolute_error((y_train)**3,(y_train_pred)**3),mean_absolute_error((y_test)**3,(y_pred)**3))})\n",
        "\n",
        "#creating a dataframe to store r2-score values for train and test data\n",
        "s5 = pd.DataFrame({'r2-score':(r2_score((y_train)**3,(y_train_pred)**3),r2_score((y_test)**3,(y_pred)**3))})\n",
        "\n",
        "#creating a dataframe to store adjusted r2-score values for train and test data\n",
        "s6 = pd.DataFrame({'adjr2-score':(1-(1-r2_score(y_train**3,y_train_pred**3))*((x_train.shape[0]-1)/(x_train.shape[0]-x_train.shape[1]-1)),\n",
        "                                       1-(1-r2_score(y_test**3,y_pred**3))*((x_test.shape[0]-1)/(x_test.shape[0]-x_test.shape[1]-1)))})\n",
        "#merging these dataframes\n",
        "pd.concat([s1,s2,s3,s4,s5,s6],axis=1).set_index('Data')"
      ],
      "metadata": {
        "colab": {
          "base_uri": "https://localhost:8080/",
          "height": 143
        },
        "outputId": "ffade8da-fd97-4429-9630-3f8c365ecac6",
        "id": "B8_4AtYkHKIf"
      },
      "execution_count": null,
      "outputs": [
        {
          "output_type": "execute_result",
          "data": {
            "text/plain": [
              "                     MSE          RMSE           MAE  r2-score  adjr2-score\n",
              "Data                                                                       \n",
              "Train data  5.674269e-18  2.382072e-09  1.656650e-09  1.000000     1.000000\n",
              "Test data   1.297042e+05  3.601447e+02  1.974210e+01  0.999999     0.999999"
            ],
            "text/html": [
              "\n",
              "  <div id=\"df-bce7859c-6fe0-4e86-b04a-c824e3c4f392\">\n",
              "    <div class=\"colab-df-container\">\n",
              "      <div>\n",
              "<style scoped>\n",
              "    .dataframe tbody tr th:only-of-type {\n",
              "        vertical-align: middle;\n",
              "    }\n",
              "\n",
              "    .dataframe tbody tr th {\n",
              "        vertical-align: top;\n",
              "    }\n",
              "\n",
              "    .dataframe thead th {\n",
              "        text-align: right;\n",
              "    }\n",
              "</style>\n",
              "<table border=\"1\" class=\"dataframe\">\n",
              "  <thead>\n",
              "    <tr style=\"text-align: right;\">\n",
              "      <th></th>\n",
              "      <th>MSE</th>\n",
              "      <th>RMSE</th>\n",
              "      <th>MAE</th>\n",
              "      <th>r2-score</th>\n",
              "      <th>adjr2-score</th>\n",
              "    </tr>\n",
              "    <tr>\n",
              "      <th>Data</th>\n",
              "      <th></th>\n",
              "      <th></th>\n",
              "      <th></th>\n",
              "      <th></th>\n",
              "      <th></th>\n",
              "    </tr>\n",
              "  </thead>\n",
              "  <tbody>\n",
              "    <tr>\n",
              "      <th>Train data</th>\n",
              "      <td>5.674269e-18</td>\n",
              "      <td>2.382072e-09</td>\n",
              "      <td>1.656650e-09</td>\n",
              "      <td>1.000000</td>\n",
              "      <td>1.000000</td>\n",
              "    </tr>\n",
              "    <tr>\n",
              "      <th>Test data</th>\n",
              "      <td>1.297042e+05</td>\n",
              "      <td>3.601447e+02</td>\n",
              "      <td>1.974210e+01</td>\n",
              "      <td>0.999999</td>\n",
              "      <td>0.999999</td>\n",
              "    </tr>\n",
              "  </tbody>\n",
              "</table>\n",
              "</div>\n",
              "      <button class=\"colab-df-convert\" onclick=\"convertToInteractive('df-bce7859c-6fe0-4e86-b04a-c824e3c4f392')\"\n",
              "              title=\"Convert this dataframe to an interactive table.\"\n",
              "              style=\"display:none;\">\n",
              "        \n",
              "  <svg xmlns=\"http://www.w3.org/2000/svg\" height=\"24px\"viewBox=\"0 0 24 24\"\n",
              "       width=\"24px\">\n",
              "    <path d=\"M0 0h24v24H0V0z\" fill=\"none\"/>\n",
              "    <path d=\"M18.56 5.44l.94 2.06.94-2.06 2.06-.94-2.06-.94-.94-2.06-.94 2.06-2.06.94zm-11 1L8.5 8.5l.94-2.06 2.06-.94-2.06-.94L8.5 2.5l-.94 2.06-2.06.94zm10 10l.94 2.06.94-2.06 2.06-.94-2.06-.94-.94-2.06-.94 2.06-2.06.94z\"/><path d=\"M17.41 7.96l-1.37-1.37c-.4-.4-.92-.59-1.43-.59-.52 0-1.04.2-1.43.59L10.3 9.45l-7.72 7.72c-.78.78-.78 2.05 0 2.83L4 21.41c.39.39.9.59 1.41.59.51 0 1.02-.2 1.41-.59l7.78-7.78 2.81-2.81c.8-.78.8-2.07 0-2.86zM5.41 20L4 18.59l7.72-7.72 1.47 1.35L5.41 20z\"/>\n",
              "  </svg>\n",
              "      </button>\n",
              "      \n",
              "  <style>\n",
              "    .colab-df-container {\n",
              "      display:flex;\n",
              "      flex-wrap:wrap;\n",
              "      gap: 12px;\n",
              "    }\n",
              "\n",
              "    .colab-df-convert {\n",
              "      background-color: #E8F0FE;\n",
              "      border: none;\n",
              "      border-radius: 50%;\n",
              "      cursor: pointer;\n",
              "      display: none;\n",
              "      fill: #1967D2;\n",
              "      height: 32px;\n",
              "      padding: 0 0 0 0;\n",
              "      width: 32px;\n",
              "    }\n",
              "\n",
              "    .colab-df-convert:hover {\n",
              "      background-color: #E2EBFA;\n",
              "      box-shadow: 0px 1px 2px rgba(60, 64, 67, 0.3), 0px 1px 3px 1px rgba(60, 64, 67, 0.15);\n",
              "      fill: #174EA6;\n",
              "    }\n",
              "\n",
              "    [theme=dark] .colab-df-convert {\n",
              "      background-color: #3B4455;\n",
              "      fill: #D2E3FC;\n",
              "    }\n",
              "\n",
              "    [theme=dark] .colab-df-convert:hover {\n",
              "      background-color: #434B5C;\n",
              "      box-shadow: 0px 1px 3px 1px rgba(0, 0, 0, 0.15);\n",
              "      filter: drop-shadow(0px 1px 2px rgba(0, 0, 0, 0.3));\n",
              "      fill: #FFFFFF;\n",
              "    }\n",
              "  </style>\n",
              "\n",
              "      <script>\n",
              "        const buttonEl =\n",
              "          document.querySelector('#df-bce7859c-6fe0-4e86-b04a-c824e3c4f392 button.colab-df-convert');\n",
              "        buttonEl.style.display =\n",
              "          google.colab.kernel.accessAllowed ? 'block' : 'none';\n",
              "\n",
              "        async function convertToInteractive(key) {\n",
              "          const element = document.querySelector('#df-bce7859c-6fe0-4e86-b04a-c824e3c4f392');\n",
              "          const dataTable =\n",
              "            await google.colab.kernel.invokeFunction('convertToInteractive',\n",
              "                                                     [key], {});\n",
              "          if (!dataTable) return;\n",
              "\n",
              "          const docLinkHtml = 'Like what you see? Visit the ' +\n",
              "            '<a target=\"_blank\" href=https://colab.research.google.com/notebooks/data_table.ipynb>data table notebook</a>'\n",
              "            + ' to learn more about interactive tables.';\n",
              "          element.innerHTML = '';\n",
              "          dataTable['output_type'] = 'display_data';\n",
              "          await google.colab.output.renderOutput(dataTable, element);\n",
              "          const docLink = document.createElement('div');\n",
              "          docLink.innerHTML = docLinkHtml;\n",
              "          element.appendChild(docLink);\n",
              "        }\n",
              "      </script>\n",
              "    </div>\n",
              "  </div>\n",
              "  "
            ]
          },
          "metadata": {},
          "execution_count": 121
        }
      ]
    },
    {
      "cell_type": "markdown",
      "source": [
        "*Error for train data is almost negligible but for test data it is comparatively little large. This might be due to outliers or any other reason in the test data. And also r2-score and adjusted r2-score is almost 100% for both train and test data. As the data size was quite less so this could be case of overfitting. Let's apply regularisation techniques to sort out these confusions*"
      ],
      "metadata": {
        "id": "FM4aoz-FHKIf"
      }
    },
    {
      "cell_type": "markdown",
      "source": [
        "* *Lasso Regularisation*"
      ],
      "metadata": {
        "id": "inQafxjVHKIg"
      }
    },
    {
      "cell_type": "code",
      "source": [
        "#----------------------------------Block 49--------------------------------------\n",
        "\n",
        "#applying Lasso Regularisation and Cross validation\n",
        "from sklearn.model_selection import GridSearchCV\n",
        "lasso = Lasso()   #lasso regression\n",
        "parameters = {'alpha': [1e-15,1e-13,1e-10,1e-8,1e-5,1e-4,1e-3,1e-2,1e-1,1,5,10,20,30,40,45,50,55,60,100,0.0014]}  #parameter values for grid search cv\n",
        "lasso_regressor = GridSearchCV(lasso, parameters, scoring='neg_mean_squared_error', cv=5)   #grid search cv for hyperparameters tuning\n",
        "lasso_regressor.fit(x_train, y_train)   #fitting models from gridsearch cv"
      ],
      "metadata": {
        "colab": {
          "base_uri": "https://localhost:8080/"
        },
        "outputId": "29457e58-2c5a-4b23-d771-7f89b50226ea",
        "id": "E4LfAcUBHKIg"
      },
      "execution_count": null,
      "outputs": [
        {
          "output_type": "execute_result",
          "data": {
            "text/plain": [
              "GridSearchCV(cv=5, estimator=Lasso(),\n",
              "             param_grid={'alpha': [1e-15, 1e-13, 1e-10, 1e-08, 1e-05, 0.0001,\n",
              "                                   0.001, 0.01, 0.1, 1, 5, 10, 20, 30, 40, 45,\n",
              "                                   50, 55, 60, 100, 0.0014]},\n",
              "             scoring='neg_mean_squared_error')"
            ]
          },
          "metadata": {},
          "execution_count": 73
        }
      ]
    },
    {
      "cell_type": "code",
      "source": [
        "#----------------------------------Block 50--------------------------------------\n",
        "\n",
        "#printing the best hyperparameters and score that came from grid search cv\n",
        "print(\"The best fit alpha value is found out to be :\" ,lasso_regressor.best_params_)\n",
        "print(\"\\nUsing \",lasso_regressor.best_params_, \" the negative mean squared error is: \", lasso_regressor.best_score_)"
      ],
      "metadata": {
        "colab": {
          "base_uri": "https://localhost:8080/"
        },
        "outputId": "6ba50823-c266-4b0e-c27f-4e1285b438b7",
        "id": "5yvd0Vz0HKIg"
      },
      "execution_count": null,
      "outputs": [
        {
          "output_type": "stream",
          "name": "stdout",
          "text": [
            "The best fit alpha value is found out to be : {'alpha': 0.001}\n",
            "\n",
            "Using  {'alpha': 0.001}  the negative mean squared error is:  -7.825049652641896e-05\n"
          ]
        }
      ]
    },
    {
      "cell_type": "code",
      "source": [
        "#----------------------------------Block 51--------------------------------------\n",
        "\n",
        "#predicting y values across x_train using lasso\n",
        "y_train_pred_lasso = lasso_regressor.predict(x_train)"
      ],
      "metadata": {
        "colab": {
          "base_uri": "https://localhost:8080/"
        },
        "outputId": "61e5499a-a4d8-4b95-a3e4-cc897f49377d",
        "id": "x_du66xXHKIg"
      },
      "execution_count": null,
      "outputs": [
        {
          "output_type": "execute_result",
          "data": {
            "text/plain": [
              "array([49.33416369, 80.66765326, 66.94551627, ..., 64.23498938,\n",
              "       87.27851757, 73.06098288])"
            ]
          },
          "metadata": {},
          "execution_count": 75
        }
      ]
    },
    {
      "cell_type": "code",
      "source": [
        "#----------------------------------Block 52--------------------------------------\n",
        "\n",
        "#predicting y values across x_test using lasso\n",
        "y_pred_lasso = lasso_regressor.predict(x_test)"
      ],
      "metadata": {
        "id": "0zh30PQTHKIh"
      },
      "execution_count": null,
      "outputs": []
    },
    {
      "cell_type": "code",
      "source": [
        "#----------------------------------Block 53--------------------------------------\n",
        "\n",
        "#to create a dataframe showing MSE, RMSE, r2-score and adjusted r2-score for train and test data\n",
        "\n",
        "s1 = pd.DataFrame(['Train data','Test data']) \n",
        "s1.rename(columns={0:'Data'},inplace=True)\n",
        "\n",
        "#creating a dataframe to store MSE values for train and test data\n",
        "s2 = pd.DataFrame({'MSE':(mean_squared_error((y_train)**3,(y_train_pred_lasso)**3),mean_squared_error((y_test)**3,(y_pred_lasso)**3))})  \n",
        "\n",
        "#creating a dataframe to store RMSE values for train and test data\n",
        "s3 = pd.DataFrame({'RMSE':(np.sqrt(mean_squared_error((y_train)**3,(y_train_pred_lasso)**3)),np.sqrt(mean_squared_error((y_test)**3,(y_pred_lasso)**3)))})\n",
        "\n",
        "#creating a dataframe to store MAE values for train and test data\n",
        "s4 = pd.DataFrame({'MAE':(mean_absolute_error((y_train)**3,(y_train_pred_lasso)**3),mean_absolute_error((y_test)**3,(y_pred_lasso)**3))})\n",
        "\n",
        "#creating a dataframe to store r2-score values for train and test data\n",
        "s5 = pd.DataFrame({'r2-score':(r2_score((y_train)**3,(y_train_pred_lasso)**3),r2_score((y_test)**3,(y_pred_lasso)**3))})\n",
        "\n",
        "#creating a dataframe to store adjusted r2-score values for train and test data\n",
        "s6 = pd.DataFrame({'adjr2-score':(1-(1-r2_score(y_train**3,y_train_pred_lasso**3))*((x_train.shape[0]-1)/(x_train.shape[0]-x_train.shape[1]-1)),\n",
        "                                       1-(1-r2_score(y_test**3,y_pred_lasso**3))*((x_test.shape[0]-1)/(x_test.shape[0]-x_test.shape[1]-1)))})\n",
        "#merging these dataframes\n",
        "pd.concat([s1,s2,s3,s4,s5,s6],axis=1).set_index('Data')"
      ],
      "metadata": {
        "colab": {
          "base_uri": "https://localhost:8080/",
          "height": 143
        },
        "outputId": "4678af19-2ef5-441a-cb0d-c6f391015c33",
        "id": "ThR2d20DHKIh"
      },
      "execution_count": null,
      "outputs": [
        {
          "output_type": "execute_result",
          "data": {
            "text/plain": [
              "                      MSE        RMSE         MAE  r2-score  adjr2-score\n",
              "Data                                                                    \n",
              "Train data  142662.367346  377.706721  143.721255  0.999999     0.999999\n",
              "Test data    94753.903070  307.821219  132.331388  1.000000     0.999999"
            ],
            "text/html": [
              "\n",
              "  <div id=\"df-ba82df60-15d5-403b-bded-97fb1aa757a0\">\n",
              "    <div class=\"colab-df-container\">\n",
              "      <div>\n",
              "<style scoped>\n",
              "    .dataframe tbody tr th:only-of-type {\n",
              "        vertical-align: middle;\n",
              "    }\n",
              "\n",
              "    .dataframe tbody tr th {\n",
              "        vertical-align: top;\n",
              "    }\n",
              "\n",
              "    .dataframe thead th {\n",
              "        text-align: right;\n",
              "    }\n",
              "</style>\n",
              "<table border=\"1\" class=\"dataframe\">\n",
              "  <thead>\n",
              "    <tr style=\"text-align: right;\">\n",
              "      <th></th>\n",
              "      <th>MSE</th>\n",
              "      <th>RMSE</th>\n",
              "      <th>MAE</th>\n",
              "      <th>r2-score</th>\n",
              "      <th>adjr2-score</th>\n",
              "    </tr>\n",
              "    <tr>\n",
              "      <th>Data</th>\n",
              "      <th></th>\n",
              "      <th></th>\n",
              "      <th></th>\n",
              "      <th></th>\n",
              "      <th></th>\n",
              "    </tr>\n",
              "  </thead>\n",
              "  <tbody>\n",
              "    <tr>\n",
              "      <th>Train data</th>\n",
              "      <td>142662.367346</td>\n",
              "      <td>377.706721</td>\n",
              "      <td>143.721255</td>\n",
              "      <td>0.999999</td>\n",
              "      <td>0.999999</td>\n",
              "    </tr>\n",
              "    <tr>\n",
              "      <th>Test data</th>\n",
              "      <td>94753.903070</td>\n",
              "      <td>307.821219</td>\n",
              "      <td>132.331388</td>\n",
              "      <td>1.000000</td>\n",
              "      <td>0.999999</td>\n",
              "    </tr>\n",
              "  </tbody>\n",
              "</table>\n",
              "</div>\n",
              "      <button class=\"colab-df-convert\" onclick=\"convertToInteractive('df-ba82df60-15d5-403b-bded-97fb1aa757a0')\"\n",
              "              title=\"Convert this dataframe to an interactive table.\"\n",
              "              style=\"display:none;\">\n",
              "        \n",
              "  <svg xmlns=\"http://www.w3.org/2000/svg\" height=\"24px\"viewBox=\"0 0 24 24\"\n",
              "       width=\"24px\">\n",
              "    <path d=\"M0 0h24v24H0V0z\" fill=\"none\"/>\n",
              "    <path d=\"M18.56 5.44l.94 2.06.94-2.06 2.06-.94-2.06-.94-.94-2.06-.94 2.06-2.06.94zm-11 1L8.5 8.5l.94-2.06 2.06-.94-2.06-.94L8.5 2.5l-.94 2.06-2.06.94zm10 10l.94 2.06.94-2.06 2.06-.94-2.06-.94-.94-2.06-.94 2.06-2.06.94z\"/><path d=\"M17.41 7.96l-1.37-1.37c-.4-.4-.92-.59-1.43-.59-.52 0-1.04.2-1.43.59L10.3 9.45l-7.72 7.72c-.78.78-.78 2.05 0 2.83L4 21.41c.39.39.9.59 1.41.59.51 0 1.02-.2 1.41-.59l7.78-7.78 2.81-2.81c.8-.78.8-2.07 0-2.86zM5.41 20L4 18.59l7.72-7.72 1.47 1.35L5.41 20z\"/>\n",
              "  </svg>\n",
              "      </button>\n",
              "      \n",
              "  <style>\n",
              "    .colab-df-container {\n",
              "      display:flex;\n",
              "      flex-wrap:wrap;\n",
              "      gap: 12px;\n",
              "    }\n",
              "\n",
              "    .colab-df-convert {\n",
              "      background-color: #E8F0FE;\n",
              "      border: none;\n",
              "      border-radius: 50%;\n",
              "      cursor: pointer;\n",
              "      display: none;\n",
              "      fill: #1967D2;\n",
              "      height: 32px;\n",
              "      padding: 0 0 0 0;\n",
              "      width: 32px;\n",
              "    }\n",
              "\n",
              "    .colab-df-convert:hover {\n",
              "      background-color: #E2EBFA;\n",
              "      box-shadow: 0px 1px 2px rgba(60, 64, 67, 0.3), 0px 1px 3px 1px rgba(60, 64, 67, 0.15);\n",
              "      fill: #174EA6;\n",
              "    }\n",
              "\n",
              "    [theme=dark] .colab-df-convert {\n",
              "      background-color: #3B4455;\n",
              "      fill: #D2E3FC;\n",
              "    }\n",
              "\n",
              "    [theme=dark] .colab-df-convert:hover {\n",
              "      background-color: #434B5C;\n",
              "      box-shadow: 0px 1px 3px 1px rgba(0, 0, 0, 0.15);\n",
              "      filter: drop-shadow(0px 1px 2px rgba(0, 0, 0, 0.3));\n",
              "      fill: #FFFFFF;\n",
              "    }\n",
              "  </style>\n",
              "\n",
              "      <script>\n",
              "        const buttonEl =\n",
              "          document.querySelector('#df-ba82df60-15d5-403b-bded-97fb1aa757a0 button.colab-df-convert');\n",
              "        buttonEl.style.display =\n",
              "          google.colab.kernel.accessAllowed ? 'block' : 'none';\n",
              "\n",
              "        async function convertToInteractive(key) {\n",
              "          const element = document.querySelector('#df-ba82df60-15d5-403b-bded-97fb1aa757a0');\n",
              "          const dataTable =\n",
              "            await google.colab.kernel.invokeFunction('convertToInteractive',\n",
              "                                                     [key], {});\n",
              "          if (!dataTable) return;\n",
              "\n",
              "          const docLinkHtml = 'Like what you see? Visit the ' +\n",
              "            '<a target=\"_blank\" href=https://colab.research.google.com/notebooks/data_table.ipynb>data table notebook</a>'\n",
              "            + ' to learn more about interactive tables.';\n",
              "          element.innerHTML = '';\n",
              "          dataTable['output_type'] = 'display_data';\n",
              "          await google.colab.output.renderOutput(dataTable, element);\n",
              "          const docLink = document.createElement('div');\n",
              "          docLink.innerHTML = docLinkHtml;\n",
              "          element.appendChild(docLink);\n",
              "        }\n",
              "      </script>\n",
              "    </div>\n",
              "  </div>\n",
              "  "
            ]
          },
          "metadata": {},
          "execution_count": 120
        }
      ]
    },
    {
      "cell_type": "markdown",
      "source": [
        "* *Ridge Regularisation*"
      ],
      "metadata": {
        "id": "gNr7gxQhHKIh"
      }
    },
    {
      "cell_type": "code",
      "source": [
        "#----------------------------------Block 54--------------------------------------\n",
        "\n",
        "#applying Lasso Regularisation and Cross validation\n",
        "from sklearn.linear_model import Ridge\n",
        "ridge = Ridge()   #Ridge regression\n",
        "parameters = {'alpha': [1e-15,1e-10,1e-8,1e-5,1e-4,1e-3,1e-2,1,5,10,20,30,40,45,50,55,60,100]}   \n",
        "ridge_regressor = GridSearchCV(ridge, parameters, scoring='neg_mean_squared_error', cv=3)   #grid search cv for hyperparameters tuning\n",
        "ridge_regressor.fit(x_train,y_train)   #fitting models from gridsearch cv"
      ],
      "metadata": {
        "colab": {
          "base_uri": "https://localhost:8080/"
        },
        "outputId": "8fe3129e-e806-469a-caef-7b60488090ef",
        "id": "sa-i_sOmHKIh"
      },
      "execution_count": null,
      "outputs": [
        {
          "output_type": "execute_result",
          "data": {
            "text/plain": [
              "GridSearchCV(cv=3, estimator=Ridge(),\n",
              "             param_grid={'alpha': [1e-15, 1e-10, 1e-08, 1e-05, 0.0001, 0.001,\n",
              "                                   0.01, 1, 5, 10, 20, 30, 40, 45, 50, 55, 60,\n",
              "                                   100]},\n",
              "             scoring='neg_mean_squared_error')"
            ]
          },
          "metadata": {},
          "execution_count": 128
        }
      ]
    },
    {
      "cell_type": "code",
      "source": [
        "#----------------------------------Block 55--------------------------------------\n",
        "\n",
        "#printing the best hyperparameters and score that came from grid search cv\n",
        "print(\"The best fit alpha value is found out to be :\" ,ridge_regressor.best_params_)\n",
        "print(\"\\nUsing \",ridge_regressor.best_params_, \" the negative mean squared error is: \", ridge_regressor.best_score_)"
      ],
      "metadata": {
        "colab": {
          "base_uri": "https://localhost:8080/"
        },
        "outputId": "4cd2987e-ecde-4086-bcec-74f41a0995c7",
        "id": "CtLZa_URHKIi"
      },
      "execution_count": null,
      "outputs": [
        {
          "output_type": "stream",
          "name": "stdout",
          "text": [
            "The best fit alpha value is found out to be : {'alpha': 1e-15}\n",
            "\n",
            "Using  {'alpha': 1e-15}  the negative mean squared error is:  -1.3425017413506467e-26\n"
          ]
        }
      ]
    },
    {
      "cell_type": "code",
      "source": [
        "#----------------------------------Block 56--------------------------------------\n",
        "\n",
        "#predicting y values across x_train using ridge\n",
        "y_train_pred_ridge =  ridge_regressor.predict(x_train)"
      ],
      "metadata": {
        "id": "3CZCps7IHKIi"
      },
      "execution_count": null,
      "outputs": []
    },
    {
      "cell_type": "code",
      "source": [
        "#----------------------------------Block 57--------------------------------------\n",
        "\n",
        "#predicting y values across x_test using ridge\n",
        "y_pred_ridge = ridge_regressor.predict(x_test)"
      ],
      "metadata": {
        "id": "3zMVJgj1HKIi"
      },
      "execution_count": null,
      "outputs": []
    },
    {
      "cell_type": "code",
      "source": [
        "#----------------------------------Block 58--------------------------------------\n",
        "\n",
        "#to create a dataframe showing MSE, RMSE, r2-score and adjusted r2-score for train and test data\n",
        "\n",
        "s1 = pd.DataFrame(['Train data','Test data']) \n",
        "s1.rename(columns={0:'Data'},inplace=True)\n",
        "\n",
        "#creating a dataframe to store MSE values for train and test data\n",
        "s2 = pd.DataFrame({'MSE':(mean_squared_error((y_train)**3,(y_train_pred_ridge)**3),mean_squared_error((y_test)**3,(y_pred_ridge)**3))})  \n",
        "\n",
        "#creating a dataframe to store RMSE values for train and test data\n",
        "s3 = pd.DataFrame({'RMSE':(np.sqrt(mean_squared_error((y_train)**3,(y_train_pred_ridge)**3)),np.sqrt(mean_squared_error((y_test)**3,(y_pred_ridge)**3)))})\n",
        "\n",
        "#creating a dataframe to store MAE values for train and test data\n",
        "s4 = pd.DataFrame({'MAE':(mean_absolute_error((y_train)**3,(y_train_pred_ridge)**3),mean_absolute_error((y_test)**3,(y_pred_ridge)**3))})\n",
        "\n",
        "#creating a dataframe to store r2-score values for train and test data\n",
        "s5 = pd.DataFrame({'r2-score':(r2_score((y_train)**3,(y_train_pred_ridge)**3),r2_score((y_test)**3,(y_pred_ridge)**3))})\n",
        "\n",
        "#creating a dataframe to store adjusted r2-score values for train and test data\n",
        "s6 = pd.DataFrame({'adjr2-score':(1-(1-r2_score(y_train**3,y_train_pred_ridge**3))*((x_train.shape[0]-1)/(x_train.shape[0]-x_train.shape[1]-1)),\n",
        "                                       1-(1-r2_score(y_test**3,y_pred_ridge**3))*((x_test.shape[0]-1)/(x_test.shape[0]-x_test.shape[1]-1)))})\n",
        "\n",
        "#merging these dataframes\n",
        "pd.concat([s1,s2,s3,s4,s5,s6],axis=1).set_index('Data')"
      ],
      "metadata": {
        "colab": {
          "base_uri": "https://localhost:8080/",
          "height": 143
        },
        "outputId": "0319ef76-c943-4ea4-8fba-4ce363ce4bf5",
        "id": "X9_IqKWxHKIi"
      },
      "execution_count": null,
      "outputs": [
        {
          "output_type": "execute_result",
          "data": {
            "text/plain": [
              "                     MSE          RMSE           MAE  r2-score  adjr2-score\n",
              "Data                                                                       \n",
              "Train data  1.126479e-18  1.061357e-09  5.947440e-10       1.0          1.0\n",
              "Test data   1.174432e-18  1.083712e-09  6.427333e-10       1.0          1.0"
            ],
            "text/html": [
              "\n",
              "  <div id=\"df-7e888dd5-59aa-44e3-b2a0-1e0160b84d73\">\n",
              "    <div class=\"colab-df-container\">\n",
              "      <div>\n",
              "<style scoped>\n",
              "    .dataframe tbody tr th:only-of-type {\n",
              "        vertical-align: middle;\n",
              "    }\n",
              "\n",
              "    .dataframe tbody tr th {\n",
              "        vertical-align: top;\n",
              "    }\n",
              "\n",
              "    .dataframe thead th {\n",
              "        text-align: right;\n",
              "    }\n",
              "</style>\n",
              "<table border=\"1\" class=\"dataframe\">\n",
              "  <thead>\n",
              "    <tr style=\"text-align: right;\">\n",
              "      <th></th>\n",
              "      <th>MSE</th>\n",
              "      <th>RMSE</th>\n",
              "      <th>MAE</th>\n",
              "      <th>r2-score</th>\n",
              "      <th>adjr2-score</th>\n",
              "    </tr>\n",
              "    <tr>\n",
              "      <th>Data</th>\n",
              "      <th></th>\n",
              "      <th></th>\n",
              "      <th></th>\n",
              "      <th></th>\n",
              "      <th></th>\n",
              "    </tr>\n",
              "  </thead>\n",
              "  <tbody>\n",
              "    <tr>\n",
              "      <th>Train data</th>\n",
              "      <td>1.126479e-18</td>\n",
              "      <td>1.061357e-09</td>\n",
              "      <td>5.947440e-10</td>\n",
              "      <td>1.0</td>\n",
              "      <td>1.0</td>\n",
              "    </tr>\n",
              "    <tr>\n",
              "      <th>Test data</th>\n",
              "      <td>1.174432e-18</td>\n",
              "      <td>1.083712e-09</td>\n",
              "      <td>6.427333e-10</td>\n",
              "      <td>1.0</td>\n",
              "      <td>1.0</td>\n",
              "    </tr>\n",
              "  </tbody>\n",
              "</table>\n",
              "</div>\n",
              "      <button class=\"colab-df-convert\" onclick=\"convertToInteractive('df-7e888dd5-59aa-44e3-b2a0-1e0160b84d73')\"\n",
              "              title=\"Convert this dataframe to an interactive table.\"\n",
              "              style=\"display:none;\">\n",
              "        \n",
              "  <svg xmlns=\"http://www.w3.org/2000/svg\" height=\"24px\"viewBox=\"0 0 24 24\"\n",
              "       width=\"24px\">\n",
              "    <path d=\"M0 0h24v24H0V0z\" fill=\"none\"/>\n",
              "    <path d=\"M18.56 5.44l.94 2.06.94-2.06 2.06-.94-2.06-.94-.94-2.06-.94 2.06-2.06.94zm-11 1L8.5 8.5l.94-2.06 2.06-.94-2.06-.94L8.5 2.5l-.94 2.06-2.06.94zm10 10l.94 2.06.94-2.06 2.06-.94-2.06-.94-.94-2.06-.94 2.06-2.06.94z\"/><path d=\"M17.41 7.96l-1.37-1.37c-.4-.4-.92-.59-1.43-.59-.52 0-1.04.2-1.43.59L10.3 9.45l-7.72 7.72c-.78.78-.78 2.05 0 2.83L4 21.41c.39.39.9.59 1.41.59.51 0 1.02-.2 1.41-.59l7.78-7.78 2.81-2.81c.8-.78.8-2.07 0-2.86zM5.41 20L4 18.59l7.72-7.72 1.47 1.35L5.41 20z\"/>\n",
              "  </svg>\n",
              "      </button>\n",
              "      \n",
              "  <style>\n",
              "    .colab-df-container {\n",
              "      display:flex;\n",
              "      flex-wrap:wrap;\n",
              "      gap: 12px;\n",
              "    }\n",
              "\n",
              "    .colab-df-convert {\n",
              "      background-color: #E8F0FE;\n",
              "      border: none;\n",
              "      border-radius: 50%;\n",
              "      cursor: pointer;\n",
              "      display: none;\n",
              "      fill: #1967D2;\n",
              "      height: 32px;\n",
              "      padding: 0 0 0 0;\n",
              "      width: 32px;\n",
              "    }\n",
              "\n",
              "    .colab-df-convert:hover {\n",
              "      background-color: #E2EBFA;\n",
              "      box-shadow: 0px 1px 2px rgba(60, 64, 67, 0.3), 0px 1px 3px 1px rgba(60, 64, 67, 0.15);\n",
              "      fill: #174EA6;\n",
              "    }\n",
              "\n",
              "    [theme=dark] .colab-df-convert {\n",
              "      background-color: #3B4455;\n",
              "      fill: #D2E3FC;\n",
              "    }\n",
              "\n",
              "    [theme=dark] .colab-df-convert:hover {\n",
              "      background-color: #434B5C;\n",
              "      box-shadow: 0px 1px 3px 1px rgba(0, 0, 0, 0.15);\n",
              "      filter: drop-shadow(0px 1px 2px rgba(0, 0, 0, 0.3));\n",
              "      fill: #FFFFFF;\n",
              "    }\n",
              "  </style>\n",
              "\n",
              "      <script>\n",
              "        const buttonEl =\n",
              "          document.querySelector('#df-7e888dd5-59aa-44e3-b2a0-1e0160b84d73 button.colab-df-convert');\n",
              "        buttonEl.style.display =\n",
              "          google.colab.kernel.accessAllowed ? 'block' : 'none';\n",
              "\n",
              "        async function convertToInteractive(key) {\n",
              "          const element = document.querySelector('#df-7e888dd5-59aa-44e3-b2a0-1e0160b84d73');\n",
              "          const dataTable =\n",
              "            await google.colab.kernel.invokeFunction('convertToInteractive',\n",
              "                                                     [key], {});\n",
              "          if (!dataTable) return;\n",
              "\n",
              "          const docLinkHtml = 'Like what you see? Visit the ' +\n",
              "            '<a target=\"_blank\" href=https://colab.research.google.com/notebooks/data_table.ipynb>data table notebook</a>'\n",
              "            + ' to learn more about interactive tables.';\n",
              "          element.innerHTML = '';\n",
              "          dataTable['output_type'] = 'display_data';\n",
              "          await google.colab.output.renderOutput(dataTable, element);\n",
              "          const docLink = document.createElement('div');\n",
              "          docLink.innerHTML = docLinkHtml;\n",
              "          element.appendChild(docLink);\n",
              "        }\n",
              "      </script>\n",
              "    </div>\n",
              "  </div>\n",
              "  "
            ]
          },
          "metadata": {},
          "execution_count": 132
        }
      ]
    },
    {
      "cell_type": "markdown",
      "source": [
        "*After applying Lasso and Ridge regularisation and cross validation also, the r2-score and adjusted r2-score are 100%, which shows no overfitting of model*"
      ],
      "metadata": {
        "id": "6NBu-11uHKIj"
      }
    },
    {
      "cell_type": "markdown",
      "source": [
        "*So, we have build a linear regression model with r2-score of 100%*"
      ],
      "metadata": {
        "id": "4bMziFbnHKIj"
      }
    },
    {
      "cell_type": "markdown",
      "source": [
        "##**This completes the project**\n",
        "##**Thank You!**"
      ],
      "metadata": {
        "id": "P17gfvTpNyez"
      }
    }
  ]
}